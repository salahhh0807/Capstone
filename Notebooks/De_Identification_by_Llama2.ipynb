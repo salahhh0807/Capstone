{
  "nbformat": 4,
  "nbformat_minor": 0,
  "metadata": {
    "colab": {
      "provenance": [],
      "include_colab_link": true
    },
    "kernelspec": {
      "name": "python3",
      "display_name": "Python 3"
    },
    "language_info": {
      "name": "python"
    }
  },
  "cells": [
    {
      "cell_type": "markdown",
      "metadata": {
        "id": "view-in-github",
        "colab_type": "text"
      },
      "source": [
        "<a href=\"https://colab.research.google.com/github/salahhh0807/Capstone/blob/main/Notebooks/De_Identification_by_Llama2.ipynb\" target=\"_parent\"><img src=\"https://colab.research.google.com/assets/colab-badge.svg\" alt=\"Open In Colab\"/></a>"
      ]
    },
    {
      "cell_type": "code",
      "source": [
        "# mount to desired path\n",
        "from google.colab import drive\n",
        "drive.mount('/content/gdrive')"
      ],
      "metadata": {
        "colab": {
          "base_uri": "https://localhost:8080/"
        },
        "id": "domCsUxyFYH6",
        "outputId": "102bf510-4ca6-44b1-fafa-53861c1fc3bc"
      },
      "execution_count": null,
      "outputs": [
        {
          "output_type": "stream",
          "name": "stdout",
          "text": [
            "Drive already mounted at /content/gdrive; to attempt to forcibly remount, call drive.mount(\"/content/gdrive\", force_remount=True).\n"
          ]
        }
      ]
    },
    {
      "cell_type": "code",
      "source": [
        "import os\n",
        "import glob\n",
        "file_pathname = \"/content/gdrive/MyDrive/GE Capstone/Data/Hugging chat trained data\"\n",
        "all_text = []\n",
        "txt_files = glob.glob(os.path.join(file_pathname,\"*.txt\"))\n",
        "for file_path in txt_files:\n",
        "    data = \"\"\n",
        "    with open(file_path, 'r') as file:\n",
        "      lines = file.readlines()\n",
        "      print(lines)\n",
        "    for line in lines:\n",
        "      data += line\n",
        "    all_text.append(data)"
      ],
      "metadata": {
        "colab": {
          "base_uri": "https://localhost:8080/"
        },
        "id": "3i9muORIA2Z_",
        "outputId": "7257f8da-d7bb-4aa5-841c-6534efeb7e6a"
      },
      "execution_count": null,
      "outputs": [
        {
          "output_type": "stream",
          "name": "stdout",
          "text": [
            "['Record date: 2096-10-04\\n', '#####\\n', 'Nevada Hospital\\n', 'Internal Medicine\\n', '#####\\n', 'Angels City, NH #####\\n', 'Dear Dr. ####:\\n', 'Your patient ##### was seen today by myself at the Atmore Community Hospital today following coronary artery bypass on August 15, 2096 .  He has had a relatively unremarkable recovery with no complications.  Today,  Mr. ##### looks and feels well, and complains of no issues.    On examination, the lungs are clear, cardiac rate and rhythm are normal. The  incision is healing very nicely.   \\n', 'Chest radiograph reveals normal findings.  EKG shows no acute changes and is basically normal.  His rate is mildly elevated today despite being on a beta blocker. \\n', 'Patient education was completed with respect to:  medication review, weight restriction/lifting/activities, cardiac rehabilitation.\\n', 'Overall, I am quite pleased with progress.   He has increased activity and should plan to enroll in cardiac rehabilitation in a few weeks.  He  seems to be making an excellent recovery from surgery.  \\n', 'Thank you for the privilege of participating in the care of this very nice gentleman.  I am confident the surgery will afford  significant and lasting benefit and relief from symptoms of angina .  I would consider increasing his Toprol dose, but will leave this to your discretion if his rate remains elevated in follow-up. I am releasing  him to your care.  We would be happy to see him at any time in the future, if you should so desire.  \\n', 'With warm regards,  \\n', 'Sincerely yours,\\n']\n",
            "['Record date: 2117-08-26\\n', '\\n', 'MRN: ######\\n', 'DOB: ######\\n', 'August 26, 2117\\n', '\\n', 'Sisters Of Providence Hospital\\n', '\\n', 'CC: f/u pancreatitis\\n', '\\n', 'HPI: ##### presents for follow up.  He was admitted to PNC on ##### for further management of his pancreatitis secondary to an ERCP/spincterotomy that was preformed at an outside hospital.  He had a prolonged stay that included NPO, IVF, antibiotics, and TPN.  Further management included management of pulmonary edema and anticoagulation as the patient is on Coumadin at baseline secondary to a heart valve.  He was eventually transitioned to a diet and the TPN stopped.  He represents today for follow up c/o epigastric pain \"nails\" intermittently at night.  Pain noted on going to sleep but does not stop sleep and he does not awaken in the night from it.  He continues on his antibiotic and will complete its course.\\n', '\\n', 'ROS:  no fever/chills, no nausea/vomiting, taking in good oral solids/liquids, occ abdominal pain at present none, no change in bowel or urinary habits.\\n', '\\n', 'Exam:  \\n', 'Temp: #####\\n', 'Abdo: slightly round, soft, nondistended, minimal tenderness LUQ, no masses, +BS\\n', '\\n', 'Plan:\\n', '1.  continue oral antibiotics til course is complete\\n', '2.  return in 1-2 weeks for follow \\n', '3.  return sooner fever/chills, n/v, abdominal pain\\n', '\\n', 'Case discussed with and seen by Dr. #####\\n', '\\n', '##### NP']\n",
            "['Record date: 2090-07-16\\n', 'NAME: #####\\n', 'MRN: #####\\n', '\\n', 'He is feeling great.  He is all done with his radiation to the left axilla for metastatic\\n', 'squamous cell cancer.  He is following closely with the radiation oncologist and the\\n', 'medical oncologist.  He is seeing them both later this month.  He has had no\\n', 'problems with chest pains or shortness of breath.  All in all, things are going well.\\n', 'PHYSICAL EXAM:  On exam, no acute distress.  Lungs are clear.  Heart is regular\\n', 'rate and rhythm.  No murmurs, gallops or rubs.  He does have some skin\\n', 'discoloration around the left axilla but I feel no mass.  He has a well-healed incision. \\n', 'There is no hair noted in or around the axilla.  Extremities with no edema.\\n', 'ASSESSMENT AND PLAN:  \\n', '(1)  CAD/hypertension/diabetes mellitus.  This is stable.  Check glycosylated\\n', 'hemoglobin. \\n', '\\n', '(2)  Metastatic squamous cell cancer.  He is being followed closely by Oncology for\\n', 'this.  Follow-up with me in the spring.\\n', 'William V. Geiger, M.D.\\n', 'WVG/xin/quilici\\n']\n",
            "['Record date: 2114-09-25\\n', 'NAME: ######\\n', 'MRN: ######\\n', 'Last week, he had a right carotid endarterectomy. Initially, he had some hoarseness. It went away but now it has returned. He did have a period of 100.4 while at home and has felt a little chilled. He is still hoarse today. He feels a little achy in the joints.\\n', 'Medications\\n', 'Albuterol INHALER 1-2 PUFF INH QID PRN, Take as directed\\n', 'Zestril (LISINOPRIL) 30MG TABLET take 1 Tablet(s) PO QD\\n', 'Lipitor (ATORVASTATIN) 10MG TABLET take 1 Tablet(s) PO QD\\n', 'Hctz (HYDROCHLOROTHIAZIDE) 12.5MG CAPSULE take 1 Capsule(s) PO QD, THIS WAS FAXED TO YOU ON 5/8/14\\n', 'Coumadin (WARFARIN SODIUM) 5MG TABLET take 1.5 Tablet(s) PO QPM\\n', 'Salsalate 750MG TABLET take 1 Tablet(s) PO BID PRN\\n', 'Flonase NASAL SPRAY (FLUTICASONE NASAL SPRAY) 1-2 SPRAY (50MCG SPRAY ) NAS BID\\n', 'Problems\\n', 'Hypertension\\n', 'Osteoarthritis\\n', 'Gastroesophageal reflux disease\\n', 'Diverticulitis\\n', 'Cerebrovascular accident : L cerebellar 2112, s/p L CEA\\n', 'Lung nodule : Repeat chest CT 10/14.\\n', 'Allergies\\n', 'Penicillins - Rash\\n', 'Penicillins - Rash\\n', 'Vital Signs\\n', 'BP 140/78, P 76, Temp 98.1 F\\n', 'On exam, he is hoarse. Temperature is 98.1, however. Throat is clear. His right CEA is clean. Heart: Regular rate and rhythm, no murmurs, gallops or rubs. Lungs clear.\\n', 'ASSESSMENT AND PLAN:\\n', '(1) Bronchitis/laryngitis. Chest x-ray today is clear. I elected to go ahead and treat him with doxycycline 100 mg b.i.d. for the next 10 days. He does have follow-up with his neurosurgeon in the next 10 days or so.\\n', '(2) Health maintenance. Double check on LFTs and A1c since his LFTs and blood sugars were up in the hospital. Also check a CBC.\\n', 'Thomas D. Kinney, M.D.\\n', 'TDK/gillis/dougherty']\n",
            "['Record date: 2092-12-27\\n', 'NAME: ######\\n', '\\n', 'MRN: ######\\n', '\\n', 'FOLLOW-UP VISIT  \\n', '\\n', 'Patient returns for follow-up of painful neuropathy.  \\n', '\\n', '\\n', 'Since last seen, her ######### level came back at ###. #### feels her pain has been\\n', '\\n', 'under relatively good control.  She has had a few falls since she was last seen all\\n', '\\n', 'due to losing her balance or tripping.  No lightheadedness or vertigo preceding her\\n', '\\n', 'falls.  She is trying to be more careful to avoid future falls by watching closely\\n', '\\n', 'where she is walking.  \\n', '\\n', '\\n', 'She has no active infection at present.  She is scheduled for follow-up EMG nerve\\n', '\\n', 'conduction studies in January.  \\n', '\\n', '\\n', 'ON EXAM:  She is her usual pleasant self.  Examination of the feet shows\\n', '\\n', 'hammertoes, numerous bunions, some reddened calluses but no ulcers or open\\n', '\\n', 'lesions.  There is vibratory loss to the ankles and absent ankle jerks bilaterally.  \\n', '\\n', '\\n', 'IMPRESSION:  Painful neuropathy with ###-year history of progressive symptoms. \\n', '\\n', 'Numerous previous work-ups for reversible causes of neuropathy have been\\n', '\\n', 'negative.  I would like to have her be evaluated by Dr. ############ of\\n', '\\n', 'Internal Medicine to see if she has any other ideas as to any additional work-up\\n', '\\n', 'or treatment.  Of note, previously had a ######### panel for sensory neuropathy\\n', '\\n', 'which was negative.  ###### was given a new prescription for ############.  I will\\n', '\\n', 'see her in follow-up in two months. \\n', '\\n', '\\n', 'Rowena Xanders, M. D. \\n', '\\n', 'RX/#################\\n']\n",
            "['Record date: 2077-09-20\\n', '\\n', '#####, #####\\n', '\\n', '12423229\\n', '\\n', '09/20/2077\\n', '\\n', '\\n', '\\n', '\\n', '\\n', 'HISTORY OF PRESENT ILLNESS: Ms. ##### returns for followup after her angioplasty of a superficial femoral artery occlusive disease, with a more proximal ##### stent placement of the common iliac. She has a nonhealing ##### ulceration. She is followed by Dr. #####, and I performed an endovascular recanalization.\\n', '\\n', '\\n', '\\n', 'PHYSICAL EXAMINATION: Today, she is doing well, after her procedure on 09/14/77.\\n', '\\n', '\\n', '\\n', 'IMAGING: Noninvasive vascular lab studies were performed today, showing an ABI of ##### on the left and ##### on the right. This is a great improvement from the ##### ABI on the left before the endovascular procedure.\\n', '\\n', '\\n', '\\n', 'ASSESSMENT AND PLAN: Dr. ##### explained to the patient and family about toe amputation recommendations at this time. Otherwise, from a circulatory standpoint, we counseled them that this was the optimal time to perform toe amputation to allow for primary healing.\\n', '\\n', '\\n', '\\n', 'They will follow up with Dr. ##### in 2 weeks, once they decide.\\n', 'Vernon Ramses Cruz, M.D.']\n",
            "['Record date: 2086-06-29\\n', '\\n', 'EDVISIT^43294739^#####, ##############^06/29/86^GAY, G. VERNAL\\n', '\\n', 'HISTORY OF PRESENT ILLNESS:  This patient is a ####-year-old female\\n', '\\n', 'who presents to ###################### Department of\\n', '\\n', 'Emergency Medicine with complaints of chest pain.  She was\\n', '\\n', 'admitted to ###################### Observation Unit, after having no acute findings\\n', '\\n', 'on EKG and a normal set of cardiac enzymes.  Awake, alert, and in\\n', '\\n', 'no acute distress.  Vital signs in the ED this a.m. were grossly\\n', '\\n', 'within normal limits.  No chest pain this a.m.\\n', '\\n', 'PHYSICAL EXAMINATION:  HEENT:  Normocephalic, atraumatic.  Pupils\\n', '\\n', 'equal, round, and reactive.  Fundi benign.  Neck:  Supple.  Chest\\n', '\\n', 'is clear to auscultation and percussion.  No rales, wheezes, or\\n', '\\n', 'rhonchi.  Heart notes a normal S1, S2, no S3, S4, no murmur. \\n', '\\n', 'Abdomen is benign, soft, nontender, no masses, guarding, rebound,\\n', '\\n', 'or organomegaly.  Extremities:  Grossly within normal limits. \\n', '\\n', 'Neurologic:  Awake, alert, able to follow commands.  Negative\\n', '\\n', 'Babinski.\\n', '\\n', 'She had a second set of cardiac enzymes done in the observation\\n', '\\n', 'portion of the ED, which were negative.\\n', '\\n', 'PLAN:  Do ETT this a.m.  If negative, to home to be followed by\\n', '\\n', 'her PMD, to return to the Emergency Department at ###################### if her problems persist or worsen.\\n', '\\n', '______________________________\\n', '\\n', 'GAY, G. VERNAL M.D.\\n', '\\n', 'D: 06/30/86\\n', '\\n', 'T: 06/30/86\\n', '\\n', 'Dictated By: GAY, G. VERNAL\\n', '\\n', 'eScription document:3-9073761 BFFocus\\n', '\\n', '******** Not reviewed by Attending Physician *******']\n",
            "['Record date: 2064-04-20\\n', '\\n', 'OFFICE NOTE\\n', '\\n', 'Patient Name: ######\\n', 'Patient ID: ######\\n', 'Date of Visit: 04/20/64\\n', '\\n', 'She returns to clinic for follow up. Unfortunately, she missed her entire appointment and did not bring her blood glucose log with her. She reports that at 4 a.m. last Thursday, she woke up and felt disoriented with sweats. She checked her blood glucose, it was 50, and she treated herself by eating. This led to resolution of her symptoms, although she said that she overshoots. She has developed a foot infection, has been seen by a podiatrist and started on antibiotics. She has also been taking a thyroid hormone but she still feels that it is making her tired. She just in general has not been feeling as well as she had been previously.\\n', '\\n', 'Past Medical History:\\n', '\\n', '1. IDDM.\\n', '\\n', 'Medications: See previous notes.\\n', '\\n', 'Allergies: Same.\\n', '\\n', 'Physical Examination: Not performed. The patient had a special orthopedic shoe on, her foot was wrapped.\\n', '\\n', \"Impression: Patient with IDDM with usual blood glucoses in the 200's and an elevated A1C. Discussed the need for consistent meals and exercise and need for more control. Will increase daytime insulin to 17 units of Lente and evening will stay at 10. She will follow up in one month. Will check a TSH today.\\n\", '\\n', 'Phyllis Jacobson, M.D.\\n', '\\n', '/lott\\n', '\\n', 'DD: 04/20/64\\n', 'DT: 04/22/64\\n', 'DV: 04/20/64\\n', '\\n', '****** Approved but not reviewed by Attending Provider ******']\n",
            "['Record date: 2093-04-30\\n', '\\n', 'Reason for Visit: Here for CHF/Angina/BP/DM check, no chest pains.  Taking meds without problems.  Breathing still is fine and no ankle swelling.\\n', '\\n', 'Medications:\\n', '\\n', '* FUROSEMIDE 20MG, 1 PO QD\\n', '* ASA (ACETYLSALICYLIC ACID) 325MG TABLET, take 1 tablet(s) PO QD, Take as directed\\n', '* ATENOLOL 100MG TABLET, take 1 tablet(s) PO QD, Take as directed\\n', '* LISINOPRIL 20MG TABLET, take 1 tablet(s) PO QD\\n', '* ZOCOR (SIMVASTATIN) 10MG TABLET, take 1 tablet(s) PO QHS\\n', '* IMDUR (ISOSORBIDE MONONIT.(SR)) 30MG TABLET CR 24HR, take 1 tablet(s) PO QD\\n', '* CARDURA (DOXAZOSIN) 4MG TABLET, PO QD\\n', '\\n', 'Allergies:\\n', '\\n', '* Sulfa - Unknown\\n', '\\n', 'Problems:\\n', '\\n', '* Angina: STABLE\\n', '* Diabetes mellitus\\n', '* Elevated cholesterol\\n', '* Hypertension\\n', '* Hearing impairment: HEARING aids\\n', '* S/P urolithiasis\\n', '* S/P Squamous cell cancer: metastatic to L axilla\\n', '\\n', 'Dr. #### Med onc, Dr. #### XRT\\n', '\\n', '* Benign prostatic hypertrophy: urinary retenetion\\n', '* Visual impairment: Diplopia due to 6th nn palsy, ####\\n', '\\n', 'Vital Signs:\\n', '\\n', '* BLOOD PRESSURE 130/60\\n', '* PULSE 68\\n', '* WEIGHT 184 lb\\n', '\\n', 'Exam:\\n', '\\n', '* NAD\\n', '* Lungs: Clear\\n', '* Cor: RRR\\n', '* Ext: no edema/lesions\\n', '\\n', 'Assessment and Plan:\\n', '\\n', '1. CHF/Angina/HTN - Good control but BP could be a bit better, increase lisinopril to 40mg qd. Cont. low Na diet. Check BUN/Cr/lytes/BNP.\\n', '2. DM - No changes, cont. low fat diet.\\n', '3. Squam cell skin ca - Stable. Cont f/u c Dr. ####.\\n', '4. BPH - Stable.\\n', '\\n', 'Follow-up in 2 months.']\n",
            "['Record date: 2096-02-13\\n', '\\n', ' Saint John Valley Health Center\\n', '\\n', '707 Newburgh Street\\n', '\\n', 'Sulphur, AR. 26822\\n', '\\n', '859-168-0145\\n', '\\n', '\\n', '\\n', 'CC: f/up of RLE ulcerations\\n', '\\n', '\\n', '\\n', 'HPI: 55 yo male with f/up for RLE ulcerations reporting\\n', '\\n', 'a temp this past Wednesday AM to ######. Started ######\\n', '\\n', 'at home because he had some and took for 2 days.\\n', '\\n', \"Also, reports FS's have been above ###.\\n\", '\\n', 'Changing dressings as directed. \\n', '\\n', '\\n', '\\n', '================ Problems ================\\n', '\\n', 'Smoking          \\n', '\\n', 'S/P R knee surgery x 3          \\n', '\\n', 'S/P tonsillectomy          \\n', '\\n', 'Hypertension          \\n', '\\n', \"H/O +PPD in '70's, treated for 1 yr          \\n\", '\\n', 'diabetes mellitus          type 2\\n', '\\n', 'Hypertriglyceridemia          \\n', '\\n', 'H/O paroxysmal afib          \\n', '\\n', 'VNA #### ######          \\n', '\\n', '\\n', '\\n', '================ Medications ================\\n', '\\n', '####### 50MG 1 Tablet(s) PO QAM\\n', '\\n', '####### 5MG 1 Tablet(s) PO QPM\\n', '\\n', 'ECASA (ASPIRIN ENTERIC COATED) 81MG 1 Tablet(s) PO QD\\n', '\\n', 'GLUCOPHAGE (METFORMIN) 850MG 1 Tablet(s) PO BID\\n', '\\n', 'GLYBURIDE 1.25MG 1 Tablet(s) PO QD\\n', '\\n', 'LISINOPRIL 20MG 1 Tablet(s) PO QD\\n', '\\n', 'PERCOCET    (OXYCODONE+APAP) 325-5MG 1 Tablet(s) PO BID PRN pain\\n', '\\n', 'SERAX (OXAZEPAM) 15MG 1 Tablet(s) PO QHS PRN insomnia\\n', '\\n', '\\n', '\\n', '================ Allergies ================\\n', '\\n', 'Penicillins          Unknown          \\n', '\\n', '\\n', '\\n', 'PEx: VS: Wt ######, BP ######, T ######, P ###### regular\\n', '\\n', 'WDWN male in NAD.  HEENT: anicteric sclerae.  \\n', '\\n', 'Neck: supple, no JVD.  \\n', '\\n', 'Lungs: CTA.  CV: Irregularly irregular \\n', '\\n', 'Abd: soft, NT/ND, nl BS.  \\n', '\\n', 'Ext: slow healing ulcers on RLE with ongoing mild surrounding\\n', '\\n', 'erythema\\n', '\\n', '\\n', '\\n', 'A/P:\\n', '\\n', '1. RLE ulcerations, slow to heal, ongoing dressing changes\\n', '\\n', 'as directed.  Will continue ###### 500 mg QID x 1 more week.\\n', '\\n', 'Percocet 5/325 1 tab po qhs-BID PRN pain\\n', '\\n', '2. DM, increase GLYBURIDE to 2.5 mg po qd as directed.\\n', '\\n', 'Follow home FS as directed.\\n', '\\n', '\\n', '\\n', 'Quijada, M.D.']\n",
            "['Record date: ######\\n', '\\n', 'INTERNAL MEDICINE ASSOCIATES\\n', '\\n', 'BROADLAWNS MEDICAL CENTER\\n', '\\n', 'Reason for visit elevated B/P\\n', '\\n', 'History of present illness Seen in ER for HTN.yesterday 224/105\\n', '\\n', 'Per dau TX w/ IV lopressor x 4 doses, betalol & NTG\\n', '\\n', 'Today B/P ######\\n', '\\n', 'Meds not changed.\\n', '\\n', 'No ha, no chest pain, no SOB, no blurred vision.\\n', '\\n', 'Change in therapies and Renewals\\n', '\\n', 'Norvasc 5mg po qd QTY:30 Refills:3 Start: ######\\n', '\\n', 'Assessment and plan HTN\\n', '\\n', 'Discussed w/ Dr ###### by phone.\\n', '\\n', 'Will add Norvasc 5 mg qd\\n', '\\n', 'Advised family.\\n', '\\n', 'Called to pharm\\n', '\\n', 'Disposition\\n', '\\n', 'Appt w/ Dr ###### 4/28/79\\n', '\\n', 'Addendum\\n', '\\n', 'I was present during key portions of the evaluation of the patient and agree with ###### findings and plan as written.\\n', '\\n', '#######\\n', '\\n', 'Signed electronically by ###### RN on ###### ###### MD on ######']\n",
            "['Record date: 2086-05-25\\n', '\\n', '                 FCH EMERGENCY DEPT VISIT\\n', ' #### M. ############################## VISIT DATE: 05/25/86\\n', 'I saw this patient May 25 with the SAR and the attending from the\\n', 'Short-stay Unit.\\n', 'PRESENTING COMPLAINT: Polyuria, fatigue.\\n', 'HISTORY OF PRESENTING COMPLAINT: This ##### year old man was referred\\n', 'in by Dr. ##### for polyuria and fatigue. His last recorded fasting blood sugar was #####. He has come week\\n', 'from a trip for one week and he did follow his diet, but had\\n', 'continued increasing polyuria, polydipsia, blurring of vision and\\n', 'weakness.\\n', 'PAST MEDICAL HISTORY: Renal insufficiency and \"incipient type II\\n', 'diabetes\" for which he had been following a strict diet.\\n', 'PHYSICAL EXAMINATION: Unremarkable except for a chronic\\n', 'strabismus.\\n', 'LABORATORY EVALUATION: Laboratory studies included a blood glucose\\n', 'of #####, an anion gap of ##### and elevated beta hydroxybutyrate.\\n', 'THERAPY RENDERED/COURSE IN ED: He was begun on intravenous fluids\\n', 'and intravenous insulin, and arrangements were made to go to a\\n', 'step-down unit on an insulin drip.\\n', 'FINAL DIAGNOSIS: New onset diabetes.\\n', 'DISPOSITION (including condition upon discharge): Admitted to\\n', 'hospital, condition satisfactory.\\n', '___________________________________ HU019/45662\\n', '#####, M.D. #### D:05/25/86\\n', 'T:05/25/86\\n', 'Dictated by: ####, M.D. ####\\n']\n",
            "['Record date: #####-##-####\\n', '\\n', 'Reason for Visit\\n', '\\n', 'Patient presents for pre-op physical exam. Having left eye cataract surgery Dr. ###### on #####.\\n', '\\n', 'Feels well.\\n', '\\n', 'Problems\\n', '\\n', '  Hypertension\\n', '\\n', '  Insomnia\\n', '\\n', '  H/O cerebrovascular accident\\n', '\\n', '  borderline aodm\\n', '\\n', '  Basal cell carcinoma\\n', '\\n', '  Asthma\\n', '\\n', '  Hyperlipidemia\\n', 'Procedures\\n', '\\n', '  Tonsillectomy\\n', 'Medications\\n', '\\n', '  Asa (ACETYLSALICYLIC Acid)    325MG TABLET take 1 Tablet(s) PO QD \\n', '\\n', '  Allegra (FEXOFENADINE Hcl)    60MG CAPSULE take 1 Tablet(s) PO BID PRN  \\n', '\\n', '  ATENOLOL   100MG TABLET take 1 Tablet(s) PO BID , take 1/2 in morning and 1 in evening\\n', '\\n', '  Flonase (FLUTICASONE Nasal Spray)    1-2 SPRAY NAS QD \\n', '\\n', '  Prilosec (OMEPRAZOLE)    20MG CAPSULE CR take 1 Capsule(s) PO QHS \\n', '\\n', '  Dyazide  (TRIAMTERENE 37.5 Mg/hctz 25 Mg)    1 CAPSULE PO QD \\n', '\\n', '  Albuterol Inhaler    2 PUFF INH Q4-6H PRN .cough , use with chamber\\n', '\\n', '  Plavix (CLOPIDOGREL)    75 MG PO QD \\n', '\\n', '  Pulmicort (BUDESONIDE Oral Inhaler)    4 PUFF INH BID \\n', '\\n', '  Celexa (CITALOPRAM)    20MG TABLET take 1 Tablet(s) PO QD \\n', '\\n', '  LISINOPRIL   20MG TABLET take 1 PO QD \\n', '\\n', '  Lipitor (ATORVASTATIN)    10MG TABLET take 1 Tablet(s) PO QD \\n', '\\n', '  Singulair (MONTELUKAST)    10MG TABLET take 1 Tablet(s) PO QHS \\n', 'Allergies\\n', '\\n', '  Sulfa    - Unknown\\n', '\\n', '  Penicillins    - Unknown\\n', 'Assessment and Plan\\n', '\\n', 'Pre-op Physical Exam\\n', '-EKG\\n', '\\n', '-Labs: CBC, PT, PTT\\n', '\\n', '-Completed form, see chart\\n', '\\n', '-will fax form once have lab results\\n', '\\n', 'Inez Yelverton, NP]]></TEXT>\\n', '</deIdi2b2>']\n",
            "['Record date: 2091-03-30\\n', '\\n', 'ORLH\\n', '58 ############## Drive ####-XAVIER, ####\\n', '#################, MN ###-####### ####-####-####\\n', '(###) ###-####### ###/###/####\\n', '\\n', 'CHIEF COMPLAINT: Mr. ####-XAVIER is a ####-year-old man who\\n', 'returns to the Orlando Regional today for a quick follow up on his\\n', 'left foot ulceration.\\n', '\\n', 'CURRENT MEDICATIONS: Glucovance 5/500 mg b.i.d. and Actos 30 mg\\n', 'q.d.\\n', '\\n', 'HISTORY OF PRESENT ILLNESS: The ulceration has not significantly\\n', 'changed, but there are no new signs of infection. He has been\\n', 'taking Keflex 500 mg t.i.d. for the last seven days. He denies\\n', 'fever and his blood glucose levels have started to improve a\\n', 'little bit. His fingerstick blood sugar today is ###.\\n', '\\n', 'He has an appointment in Vascular Surgery in two days. I have\\n', 'asked him that it is extremely important for him to keep that\\n', 'appointment for the evaluation of this ulceration and his\\n', 'vascular status. I have also reviewed with him that he may need\\n', 'to be hospitalized if a vascular procedure is recommended.\\n', '\\n', 'Unfortunately, he does not have an appointment with Podiatry\\n', 'until the end of this month.\\n', '\\n', 'ASSESSMENT AND PLAN: He will be seen by me again in a few days\\n', 'after he is seen in Vascular Surgery. In the meantime, he will\\n', 'continue with all his medications. I have given him a\\n', 'prescription for Zocor 20 mg q.d. since the pharmacy could not\\n', 'give him Lipitor that I had prescribed.\\n', '\\n', 'Billy Vanpelt, M.D.\\n', '\\n', 'eScription document:3-9348364\\n', 'DD: 03/30/91\\n', 'DT: 03/31/91\\n', 'DV: 03/30/91']\n",
            "['Record date: 2074-01-22\\n', '\\n', 'AASC EMERGENCY DEPT VISIT\\n', '\\n', 'Visit Date: 01/22/74\\n', 'HISTORY OF PRESENTING COMPLAINT: The patient is a very pleasant ##### year old woman with a history of hypertension, on #####, #####, ##### who presents to the Emergency Department complaining of subjective fevers, myalgias and cough.\\n', '\\n', 'REVIEW OF SYSTEMS: Negative for headache, neck pain, chest pain, shortness of breath, dyspnea on exertion, abdominal pain, fevers or chills.\\n', '\\n', 'PHYSICAL EXAMINATION: Afebrile. Vital signs are normal. Normocephalic, atraumatic. Neck: Supple. JVD to approximately ##### cm. Chest has bibasilar faint crackles that do not clear with cough. Abdomen is soft, obese. Heart: Regular rate and rhythm. Extremities: 1+ non-pitting edema versus obesity.\\n', '\\n', 'LABORATORY EVALUATION: Chest x-ray with bilateral inferior lobe infiltrates with cephalization consistent with mild to moderate #####, no effusions. EKG with #####, no ST elevations, T wave inversions or evidence of acute ischemia.\\n', '\\n', 'ASSESSMENT/PLAN: New onset #####, setting in a probable #####. DISPOSITION (including condition upon discharge): I will admit to Medical Service for workup of #####, rule out #####, echocardiogram. The patient is admitted in good condition.\\n', '\\n', 'ZW011/0863\\n', 'DAVID ZHU, M.D. DZ0\\n', 'Dictated by: DAVID ZHU, M.D. DZ0\\n', '********** Not reviewed by Attending Physician *********']\n",
            "['Record date: ######\\n', '\\n', 'VASCULAR SURGERY H&P\\n', '#######\\n', '#######\\n', 'May ###, ####\\n', '\\n', 'Service: Mosley\\n', 'Attending: Snyder\\n', 'Fellow: Allison\\n', 'Senior: Fulton\\n', 'Junior: Benitez\\n', '\\n', 'Mr ###### is an ##### year old gentleman with a long-standing history of peripheral vascular disease who presents with progressive rest pain and ischemic ulceration of his ##### foot. He underwent angiography, but no lesions amenable to percutaneous intervention were identified. He presents now in anticipation of a distal bypass procedure.\\n', '\\n', 'PMH: CAD\\n', 'HTN\\n', 'CRI (Cr ##### at baseline)\\n', 'DM\\n', 'PVD s/p left fem-pop (failed) and redo left fem-pop-peroneal\\n', 'CAS s/p endarterectomy\\n', 'CHF\\n', 'Atrial Fibrillation\\n', 'Nephrolithiasis\\n', 'Spinal Stenosis\\n', '\\n', 'Meds: Norvasc #####\\n', 'Glyburide #####\\n', 'Labetalol #####\\n', 'Lisinopril #####\\n', 'ASA #####\\n', 'Plavix #####\\n', 'Doxazosin #####\\n', 'Aciphex #####\\n', 'Zocor #####\\n', 'NitroDur #####\\n', 'Ativan #####\\n', 'Lasix #####\\n', 'Vicodin #####\\n', 'Tylenol #####\\n', 'Zantac #####\\n', 'Coumadin\\n', '\\n', 'Allergies: ASA\\n', 'SH: never smoked, widower\\n', 'PE: Afebrile #####\\n', 'NAD\\n', 'Chest CTAB\\n', 'Heart Irreg, II/VI SEM\\n', 'Abd soft\\n', 'RLE with ischemic, but clean ulceration.\\n', 'LLE warm without lesions\\n', 'Vasc: Car Rad Fem Pop DP PT\\n', 'R 2+ 2+ 1+ - - -\\n', 'L 2+ 2+ 2+ 1+ D 1+\\n', '\\n', 'EKG Afeb\\n', 'PVR pulsatile on L, flat on R\\n', 'CXR No acute processes\\n', '\\n', 'Impression: RLE limb ischemia\\n', 'Plan: OR in AM for Fem-distal bypass\\n', 'IV Heparin overnight\\n', 'Consent obtained\\n', '\\n', 'Richard Benitez, MD, MPH\\n', 'Resident in Surgery']\n",
            "['Record date: XXXXXX-XX-XX\\n', '\\n', 'Routine F/U\\n', '\\n', '================ Vital signs ================\\n', '\\n', 'Blood Pressure: XXX/XXX [Left Arm, Sitting]\\n', 'Weight: XXX [Pounds]\\n', '\\n', '================ Medications ================\\n', '\\n', 'GLUCOPHAGE (METFORMIN) Variable PO\\n', '\\n', 'ZESTRIL (LISINOPRIL) 10MG 1 Tablet(s) PO QD\\n', '\\n', 'NPH HUMULIN INSULIN (INSULIN NPH HUMAN) Variable SC\\n', '\\n', 'TOPROL XL (METOPROLOL (SUST. REL.)) 200MG 1 Tablet(s) PO QD\\n', '\\n', 'ISOSORBIDE MONONIT.(SR) 30MG 1 Tablet(s) PO QD\\n', '\\n', 'ASA (ACETYLSALICYLIC ACID) 325MG 1 Tablet(s) PO QD\\n', '\\n', 'LIPITOR (ATORVASTATIN) 10MG 1 Tablet(s) PO QHS\\n', '\\n', 'Issues:\\n', '\\n', 'CAD...Now s/p CABG. Sx preop were DOE, now no longer dyspnic even going up 2 flight stairs. doing cardiac rehab. tolerating well, early in course, doing almost 2miles/45 min already. Tachcardia on ToprolXL, still 80-90 at rest, 105 with exertion by design. Advised that pulse may fall as conditioning improves.\\n', '\\n', 'Wt decreased 6# since last visit.\\n', '\\n', 'DM Notes BGs 180 post rehab at 11am, 160s at HS, FBG~~120 or less. On metformin 500/500/1000, NPH 30q11am/28qHS. Discussed rational and controll. A1C 8.1, above 7.0 goal. Recc checking bg at 4pm as well, change am NPH to 7-8 am to cover lunch and dinner, and would increase 2U q 1-2days, watching tid-qid BGs and adjusting HS dose downward if FBGs <100. Goal is no BGs <80, most <140. Reduce frequ of increases as levels approach goals.\\n', '\\n', 'Lipids well controlled ldl=97\\n', '\\n', 'Claudication seems to be improving with exercise training. Advised to continue. Consideration for bypass only if limiting long-term progress.\\n', '\\n', 'HTN well controlled.\\n', '\\n', '15 of 25 minute visit counseling.\\n', '\\n', 'RTC 3 Months, call if ? concerning DM control.\\n', '\\n', 'Note printed for pt.\\n', '\\n', 'Fontenot, Leon, M.D.']\n",
            "['Record date: ######\\n', '\\n', 'Patient Name: ######; MRN: ######\\n', '\\n', 'Dictated on: ###### by ######, N.P., PH.D.\\n', '\\n', 'Mr. ###### returns to clinic for evaluation and management of recurrent ulcerations on the hypertrophic scar tissue along the medial aspect of the right lower extremity.\\n', '\\n', 'Today, on physical examination, the wound bed measured ######. The wound bed was covered with yellow biofilm, which was debrided. The underlying wound bed contained moist red tissue with a few drops of bloody drainage. The margin was clear.\\n', '\\n', 'IMPRESSION: There has been epithelialization of the wound along the medial aspect of the right knee. There has been no further disruption of the epithelium overlying the hypertrophic scar tissue.\\n', '\\n', 'PLAN: We will continue with dressing changes every two to three days per the following protocol: spray the wound with AllClenz wound cleanser followed by irrigation with normal saline ######; apply skin protectant to the periwound margin, Panafil paste ###### thick to the wound bed, gauze dampened with normal saline (cut-to-fit), covered with DuoDerm secured with Medipore tape.\\n', '\\n', 'Mr. ###### will return to clinic in two weeks.\\n', '\\n', '#######, N.P., Ph.D.\\n', '\\n', 'DD:#######\\n', '\\n', 'DT:#######\\n', '\\n', 'FJ:######## :#####']\n",
            "['Record date: #####-##-####\\n', '\\n', 'Reason for Visit\\n', '\\n', 'Here for ###### check, no chest pains. Taking meds without problems. No problems at ############## (site of ######). Has been going to f/u for this.\\n', '\\n', 'Medications\\n', '\\n', '  ######, 1 tablet(s) PO QD : Take as directed \\n', '\\n', '  ######, 1 tablet(s) PO QD : Take as directed \\n', '\\n', '  ######, 1 tablet(s) PO QHS : Take as directed \\n', '\\n', '  ######, 1 tablet(s) PO QD : Take as directed \\n', '\\n', '  ######, 1 tablet(s) PO QD : Take as directed \\n', '\\n', 'Allergies\\n', '\\n', '  ###### - Unknown\\n', 'Problems\\n', '  #### : Diplopia due to ###### palsy, ######\\n', '\\n', '  ###### : STABLE\\n', '\\n', '  ######\\n', '\\n', '  ######\\n', '\\n', '  ######\\n', '\\n', '  #### : HEARING aids\\n', '\\n', '\\n', '\\n', '  S/P ######\\n', '\\n', '  S/P ###### : metastatic to ######\\n', 'Dr. ###### Med onc, Dr. ###### XRT\\n', '\\n', '  ###### : urinary retention\\n', 'Vital Signs\\n', '\\n', '  BLOOD PRESSURE ######/#####\\n', '\\n', '  PULSE ######\\n', '\\n', '  WEIGHT ###### lb\\n', 'Exam\\n', '\\n', 'NAD\\n', '\\n', 'Lungs: Clear\\n', '\\n', 'Cor: RRR\\n', '\\n', 'Ext: no edema/lesions\\n', '\\n', 'Assessment and Plan\\n', '\\n', '######/HTN - Better control c increase of ###### to ###### qd. Cont. low Na diet.\\n', '\\n', '- No changes, cont. low fat diet, check HgbA1c.\\n', '- Saw Dr. ###### and had repeat CT and PET scan that showed no tumor. Cont f/u c Dr. ######.\\n', 'R ###### palsy - Resolved.\\n', '\\n', 'Follow -up in 3-4 months.]]></TEXT>\\n', '</deIdi2b2>']\n",
            "['Record date: ######\\n', '\\n', '#######\\n', '\\n', 'CHH Unit No: ######\\n', '\\n', 'MISSOURI PACIFIC HOSPITAL\\n', '\\n', 'ADULT MEDICINE\\n', '\\n', 'Date: ######\\n', '\\n', '78-year-old male who comes in for follow-up of his high blood pressure. He denies having any chest pain, any shortness of breath, or any difficulty sleeping at night. His brother-in-law lives with him. He reports no change in ############## at all and no concerns.\\n', '\\n', 'PAST MEDICAL HISTORY:\\n', '\\n', '(1) Mental retardation.\\n', '\\n', '(2) Hypertension.\\n', '\\n', '(3) A history of anemia.\\n', '\\n', '(4) BPH.\\n', '\\n', '(5) History of peptic ulcer disease diagnosed by upper endoscopy in ######.\\n', '\\n', 'MEDICATIONS: Hydrochlorothiazide 25 mg q.d. and atenolol 25 mg q.d.\\n', '\\n', 'ALLERGIES TO MEDICATION: None.\\n', '\\n', \"SOCIAL HISTORY: He doesn't smoke.\\n\", '\\n', 'PHYSICAL EXAM: Weight ######, unchanged. Blood pressure ######, pulse ######. Lungs clear. No crackles or wheezing. Cardiac - Regular rate and rhythm. S1, S2. His abdomen is soft, nontender. Extremities - trace edema at the ankles.\\n', '\\n', 'ASSESSMENT AND PLAN:\\n', '\\n', '(1) Hypertension, which appears to be stable. Continue present regimen. Will check a potassium, BUN and creatinine.\\n', '\\n', '(2) History of normocytic anemia. His last hematocrit in ###### was at ######, normal MCV. At his next visit he will need a recheck of this as well as of B12 level.\\n', '\\n', '(3) History of borderline sugars, although his glucose today is ######.\\n', '\\n', '(4) Routine health maintenance. Flu vaccine given to his left deltoid IM. He will need Hemoccult cards at his next visit. Follow up in 6 months or sooner as needed.\\n', '\\n', 'Xavier Combs, M.D.\\n', '\\n', 'XC/olivas/finn']\n",
            "['Record date: 2086-12-08\\n', '\\n', 'Silver Ridge Internal Medicine\\n', '3 Eaton Place #####\\n', 'Mansfield, NV 29473 #######\\n', '----------- 12/08/86\\n', '\\n', 'INTERVAL HISTORY: The patient is status post one lumbar epidural\\n', 'injection. He is ### years old with previous history of ####,\\n', 'as well as bilateral #### surgery. He has pain radiating to\\n', 'both legs up to calves and thighs. He has moderate-to-severe\\n', '#######. He had good response to #### epidural steroid\\n', 'injection once, about 3 months ago. He states that he is\\n', 'reasonably symptom free but the pain is coming back. Today, we\\n', 'are going to repeat the injection.\\n', '\\n', 'PHYSICAL EXAMINATION: Essentially unchanged from prior.\\n', '\\n', 'PROCEDURE NOTE: After obtaining informed consent, the patient\\n', 'placed in sitting position. Lower back prepped and draped in\\n', 'usual sterile fashion. A #### gauge, #### needle used to access\\n', 'epidural space at ####. Three cc of #### and 3 cc of\\n', '0.5% #### were allowed to drip in via gravity. No\\n', 'complications. No ####, no ####. No ####.\\n', '\\n', 'FOLLOW-UP PLAN: The patient to report for further injection in\\n', 'case needed in the next 2 or 3 months.\\n', '\\n', '#######\\n', '\\n', 'Dictated By: ####\\n', '\\n', 'eScription document:1-1277442 ####\\n', '\\n', 'DD: 12/08/86\\n', 'DT: 12/09/86\\n', 'DV: 12/08/86']\n",
            "['Record date: 2073-09-28 59 y/o male for f/u:\\n', '\\n', 'BP - No CP, SOB, pedal edema\\n', 'low HDL - walking daily\\n', 'ED - Viagra working well at 50 mg\\n', 'hi LDL - continues Lipitor w/o muscle pain\\n', 'O/E Looks well.\\n', '\\n', 'BLOOD PRESSURE\\n', '\\n', '120/70\\n', 'wt #####\\n', 'HR 68\\n', 'reg chest - CTA ext - no edema\\n', 'A/P\\n', '\\n', 'BP - good control\\n', 'low HDL - much time spent discussing lifestyle treatment. Has increased exercise to walking but weight unchanged > will increase exercise\\n', 'ED - no change\\n', 'hi LDL - good control. No change']\n",
            "[\"Record date: ###-##-#### Personal Data and Overall Health ###-year-old S/P L internal capsule stroke ####. Reason for VisitMr. ##### returns to clinic today for routine follow up. I last saw him on ###-##-####, and he has continued to improve since that time. He remains on ############ po qd for stroke prevention, and continues to be worked up for renovascular hypertension. He has had no new stroke-like symptoms, and only very infrequently feels that the right leg is weak, usually at the end of the day when he is fatigued. He was recently seen by Dr. ############ of the department of Cardiology. He underwent a ###-hour holter monitor, which showed no evidence for atrial fibrillation or other significant dysrhythmia. His ### have no evidence for disease. He is to go for his ### with bubble study later today. Medications ###### (###HCL) 40MG PO BID x 87 days Start Date: ###-##-#### Stop Date: ###-##-#### ATENOLOL ###### 1 Tablet(s) PO QD Start Date: ###-##-#### NORVASC (AMLODIPINE) ###### 1 Tablet(s) PO QD Start Date: ###-##-#### Exam Alert, Ox3. Speech fluent, non-dysarthric. EOM's full, no nystagmus. Face symmetric, full power x 4. No drift. Gait steady, narrow-based.\\n\", 'Plan I am pleased with his negative results so far (24 hour holter, CNIS), and I doubt the TTE will change our management. We are likely left with small vessel disease causing a lacune in the internal capsule. The best form of treatment would be continued antiplatelet therapy with the ASA ###### per day, and continued treatment for his hypertension, as per Dr. Tolliver. I will see him again in 3 months time, and he will call me in the interim with any problems or questions.CC Dr. Harry Tolliver, FPC Cardiology Unit']\n",
            "[\"Record date: 2073-06-13 EDVISIT^98044905^#####, ####^06/13/73^ZORN, TYLERThe patient is a ###-year-old gentleman who presents complaining of shortness of breath, weakness, and fatigue. The patient was seen in conjunction with resident physician, ####. Please see her note for details of the visit. Resident's history was reviewed by me. The patient was interviewed and examined by me.PAST MEDICAL HISTORY: Significant for ###, ####, and ####.MEDICATIONS: ####, ####, ####, and ####.ALLERGIES: The patient has no allergies.FAMILY HISTORY: Negative for chronic diseases.SOCIAL HISTORY: No alcohol, tobacco, or illicit substances.HISTORY OF PRESENT ILLNESS: The patient is followed by his hematology-oncologist for unexplainable anemia. The patient presents complaining of dyspnea.REVIEW OF SYSTEMS: Significant for dyspnea on exertion, weakness, fatigue, fever and shortness of breath, negative for headache, blurred vision, chest pain. Other systems were reviewed and found to be negative, unless noted positive on resident's note. PHYSICAL EXAMINATION: I concur with documented resident's note. Specifically, abdomen was soft and nontender. Rectal Exam: Guaiac negative, normal tone, and no masses. ASSESSMENT AND PLAN: Laboratory studies remarkable for hematocrit of #####. EKG is unremarkable. Chest x-ray is negative. The patient's management was discussed with Dr. #####, oncology. The patient will be admitted to oncology hematology for workup.ZORN, TYLER M.D. D: ##### T: ##### Dictated By: ZORN, TYLER\\n\", 'eScription document:2-2004166\\n', 'IFFocus ********\\n', 'Not reviewed by Attending Physician ********']\n",
            "['Record date: ###### Male for bp follow up. no complaints. underwent successful ###### last month. ROS: neg for chest pain, cough or shortness of breath. he does have mild swelling of ankles. PROBLEMS ###### Hypertension ###### H/O ###### disease DX. BY ###### IN ######. ###### s/p ###### Coronary artery diseaseett ######: The ECG response to pharmacological stress was nondiagnostic for ischemia. The myocardial perfusion scans show a moderate size, severe, fixed inferior and inferolateral defect indicative of prior infarct with little if any residual ischemia. MEDICATIONS ###### 25MG 1 Tablet(s) PO QD ###### 5MG 1 Tablet(s) PO QD ###### 20MG 1 Tablet(s) PO QD ALLERGIES ###### HYPONATREMIA exam: weight ###### /####### 76 lungs;clear cor:RRRs1s2 with no gallops ext; trace ankle edema a/p: htn: stable. check lytes. cad with mild ankle edema. will send for cardiac echo to assess ef. consider adding lasix. will follow. otherwise no angina or failure. follow up in four months. ____________________________ ######.']\n",
            "[\" Sure, here's the revised text with private information replaced with #####:\\n\", '\\n', 'Record date: 2081-04-21 58 yo male here for f/u of his various medical issues:\\n', '\\n', '1) CV: admitted 2/81 w/atypical CP (similar admission in recent past). Ruled out. MIBI w/small fixed defect ant/lat wall. EF 61% w/out WMA. Statin changed to Zetia for elevated CK ( ##### ). Last lipid panel 3/17 chol #####, trig #####, HDL #####, LDL #####, VLDL #####. Also continues on Plavix and ASA (for prior stroke), lisinopril. Will recheck CK and lipid panel.\\n', '\\n', '2) Neuro: CT 2080 old infarct R caudate region. MRI confirmed R caudate lesion, other small vessel dz (small foci infarcts basal ganglia, few foci increased signal intensity subcortical white matter.) Neuro testing recently showed mild deficits in attention, processing; intellectual capacity superior range. Per Dr. Sims (stroke clinic), lesions on imaging could explain memory problems and slurred speech. Pt continuing on ASA and Plavix. Also Zetia as above.\\n', '\\n', '3) Depression: Pt continues on 100 Zoloft (had incr to 200 per pt request but made him \"feel funny\"). Pt referred to psych, upcoming appt. Ambien QHS.\\n', '\\n', \"4) LFT's: Isolated Elevated AST (3/18 #####, 3/17 #####). Will check hep C. and recheck LFT's.\\n\", '\\n', '5) Pilonidal cyst: see separate note dated today.\\n', '\\n', '6) Health maintenance: Lipids: see above. Sigmoidoscopy 1/20 normal\\n', '\\n', '7) HTN: stable. Continue lisinopril\\n', '\\n', 'Quiana Lou Qu, M.D.']\n",
            "['Record date: #####-##-##-####\\n', '\\n', 'BRENNAN CONVALESCENT HOME\\n', 'Reason For Visit: Cough\\n', '\\n', 'History Of Present Illness:\\n', '\\n', '68 year-old male presents with complaint of cough productive of white-to-clear sputum for two days. He feels minimal chest tightness, with no shortness of breath. No dyspnea on exertion or PND. He denies wheeze. He is able to tolerate exercise on treadmill without chest pain. He denies fever or chills. Presently, self-treating with ###### and ######. Has clear rhinorrhea. No ear pain, no throat pain. No sinus pain or pressure.\\n', '\\n', 'Past Medical History:\\n', '\\n', 'CAD, status post stent x2. MI. Hypertension. Hyperlipidemia. CVA. BPH. Elevated PSA. Tobacco use in the past.\\n', 'Physical Exam\\n', 'Temperature: ######\\n', 'Pulse: ######\\n', 'Blood Pressure: ######\\n', '\\n', 'General: Well-developed ###### male in no acute distress\\n', '\\n', 'HEENT: TMs and oropharynx unremarkable. Oropharynx is clear without exudate or tonsillar hypertrophy. No posterior pharynx exudate. Sinuses are nontender\\n', '\\n', 'Chest: Lungs are clear to auscultation bilaterally\\n', '\\n', 'Cardiac: Regular rate and rhythm. No murmur, rub, or gallop\\n', '\\n', 'Extremities: No peripheral edema\\n', '\\n', 'Assessment And Plan:\\n', '\\n', 'Cough, likely viral. ###### as directed for daytime use, may use ###### at HS PRN, (patient has own). Reassurance re: findings on exam.\\n', 'Hypertension. Blood pressure again today ######. Continue to monitor for indication of increase in ###### per Dr. ######. The patient has followup with Cardiology on ######.']\n",
            "['Record date: #####-##- #### CC: Pt presents to walk-in clinic, wants to establish care w/ me.\\n', '\\n', 'HPI: ##### y.o. man, here w/ his son, wants to establish care w/ me. He needs medication refills today. Prior MD was Dr. ##### on the #####. He has #####, #####, #####, is legally blind. He feels well today, has no complaints presently.\\n', '\\n', 'Problems #####, #####, #####, Visual impairment : pt legally blind\\n', '\\n', 'Medications #####, #####, #####, #####\\n', '\\n', 'Allergies #####\\n', '\\n', 'PE: #####/####\\n', '\\n', 'Gen: overweight, elderly man, NAD\\n', '\\n', 'HEENT: PERRL, EOM intact; oral mucosa moist, no lesions\\n', '\\n', 'Neck: supple, no LAN\\n', '\\n', 'Lungs: clear to auscultation bilaterally\\n', '\\n', 'CV: RRR, nl S1, S2, no M/R/G\\n', '\\n', 'Extrem: no clubbing, cyanosis or edema\\n', '\\n', \"A/P: ##### y.o. man w/ #####, #####, #####, legally blind, here to establish care. Will refill pt's meds; he should make appt w/ me in one month for CPE; he will obtain his medical records prior to next visit.\"]\n",
            "['Record date: #####-##-##-####\\n', '\\n', 'She returns for follow-up visit. She has essential hypertension and diabetes and is s/p a small CVA. Medications currently include vasotec #####, chlorpropamide #####. I once again encouraged her to take aspirin which she said gives her a funny feeling in her stomach, but she is now agreeable to taking ##### q.d. Hydrochlorothiazide was stopped secondary to an episode of hyponatremia. She said she has felt the best over the last three months and reports no cardiovascular or neurological symptoms. Blood pressure #####. No JVD. Carotid impulses normal. No bruits. Lungs clear. Cardiac exam normal. Unremarkable abdomen. Full pulses throughout with no edema. ECG is within normal limits. I have made no changes to her medical regimen and she will return to see Dr. ###### in six months. ###### Approved but not reviewed by Attending Provider ######']\n",
            "['Record date: 2098-11-04\\n', 'NAME: #####, Donn S.\\n', 'MRN: #####\\n', 'Patient presents today for nail care. It is an initial visit for him with me. He had seen Dr. ##### back in July of this year.\\n', '\\n', 'PAST MEDICAL HISTORY: Multiple and complex, consistent of ####################, ##############, ####################, ####################, ####################, ####################, ####################, ####################, ####################, ####################, ####################, ####################. MEDICATIONS: Multiple meds per the LMR. ALLERGIES: ######. PAST SURGICAL HISTORY: ######. PEDAL EXAM: Pulses are diminished bilaterally, absent digital hair growth, cool atrophic skin. Sensorium appears intact. Orthopedically speaking, he has a severe ###### deformity bilaterally with ###### and collapse of the medial column, left greater than right. Dermatologically speaking, there are no ######. His nails are grossly ###### and elongated. They were all trimmed. There were no signs of ######. Web spaces were clean, dry and intact. ASSESSMENT: Patient with ######. I recommended regular nail care approximately every 2-3 months. I answered all of his questions. He was reappointed as stated. ######.']\n",
            "['Record date: 2079-02-28\\n', '\\n', 'DOUGLAS EMERGENCY DEPT VISIT\\n', '\\n', '####### #####-####-#### #### VISIT DATE: 02/28/79\\n', '\\n', 'This patient was evaluated in conjunction with a resident and I\\n', '\\n', 'confirmed the history and physical findings as documented in the\\n', '\\n', 'handwritten record.\\n', '\\n', 'HISTORY OF PRESENTING COMPLAINT: This patient is a ##### year old\\n', '\\n', 'gentleman with underlying ##### and ##### as well as extensive #####\\n', '\\n', 'now presenting with worsening fatigue and shortness of breath over the\\n', '\\n', 'preceding few days.\\n', '\\n', 'PHYSICAL EXAMINATION: Physical examination is suggestive of #####.\\n', '\\n', 'LABORATORY EVALUATION: Electrolytes are normal. Electrocardiogram\\n', '\\n', 'shows no definite ischemic change. Chest x-ray is a limited study\\n', '\\n', 'due to #####.\\n', '\\n', 'THERAPY RENDERED/COURSE IN ED: The patient was treated with ##### and\\n', '\\n', 'ultimately admitted to the hospital for further care.\\n', '\\n', 'FINAL DIAGNOSIS: #####.\\n', '\\n', 'DISPOSITION (including condition upon discharge): The patient was\\n', '\\n', 'admitted to the hospital in stable condition.\\n', '\\n', '___________________________________ TO761/1620\\n', '\\n', '####### #####-####-#### #### D:02/28/79\\n', '\\n', 'T:02/28/79\\n', '\\n', 'Dictated by: ######\\n', '\\n', '******** Not reviewed by Attending Physician ********.\\n']\n",
            "['Record date: 2076-09-28\\n', '\\n', 'Nutrition Clinic Initial Assessment 9/28/76\\n', '\\n', 'Problems: #####, #####, #####\\n', '\\n', 'Wt: #####\\n', '\\n', 'Ht: #####\\n', '\\n', 'BMI: #####\\n', '\\n', 'Weight History: long Hx ######## highest bw #####\\n', '\\n', \"Activity Level: ADL's ######## just began walking per report q other d\\n\", '\\n', 'Maintenance Calorie Needs: #####kcals/d\\n', '\\n', 'wt. loss kcals: #####kcals/d\\n', '\\n', 'Diet History:\\n', '\\n', 'Calories - #####\\n', '\\n', '% Protein - #####\\n', '\\n', '% Fat - #####\\n', '\\n', '% CHO - #####\\n', '\\n', '% Sat Fat - #####\\n', '\\n', 'mg Chol- #####\\n', '\\n', 'mg Na - #####\\n', '\\n', 'Labs: HbAIC #####% 8/76\\n', '\\n', 'SMBG qd #####-#####mg\\n', '\\n', 'Assessment: ##### yo class ##### obese m. w/ #####, ##### interested in improving ##### and #####. Notes w/ past diets difficult to be on b/c some high in Na (atkins he tried) and others not good for #####. Requests #####kcal diet which will comply w/ his med needs. Also on the road often for work and eats most lunches out. Recall reveals, he is careful w/ label reading yet some inconsistencies in ##### intake and high fat , high Na choices when eating out which is qd. Reviewed all basics today including meal plan w/ consistent ##### intake, fiber, and lean pro @ each meal\\n', '\\n', 'Treatment Plan:\\n', '\\n', '5 small meals/d\\n', '\\n', 'consistent ##### intake @ each meal\\n', '\\n', 'lean pro w/ each meal\\n', '\\n', 'increase fiber goal #####-#####g/d\\n', '\\n', 'label reading <#####mg Na\\n', '\\n', '<#####mg/d Na goal\\n', '\\n', 'portion control\\n', '\\n', 'sat fat <#####kcals\\n', '\\n', 'healthful eating out guidelines\\n', '\\n', 'regular exercise\\n', '\\n', 'Recommended Additional visits:\\n', '\\n', 'prn\\n', '\\n', 'Educational materials provided:\\n', '\\n', 'handouts, written guidelines\\n', '\\n', 'Pt Response:\\n', '\\n', 'Receptive\\n', '\\n', 'RTC:\\n', '\\n', '5wks w/ food record\\n', '\\n', 'Sampson, MS,RD,LDN\\n', '\\n']\n",
            "['Record date: 2089-08-24\\n', '\\n', 'NAME: #####\\n', '\\n', 'MRN: 7682941\\n', '\\n', 'He is feeling quite fine today. He has no specific problems to bring to my\\n', '\\n', 'attention. He says that he is having no problems with chest pains whatsoever and\\n', '\\n', 'that includes with exertion. His breathing has been fine as well. No shortness of\\n', '\\n', 'breath. Otherwise, he denies any abdominal pains, joint pains, bowel or bladder\\n', '\\n', 'difficulties. The remainder of the review of systems is negative in detail.\\n', '\\n', 'PHYSICAL EXAM: On exam, he looks well. Skin is clear. HEENT - PERRLA.\\n', '\\n', 'EOMI. TMs and throat clear. Neck supple. No thyromegaly. No\\n', '\\n', 'lymphadenopathy. Lungs are clear. Heart is regular rate and rhythm. No\\n', '\\n', 'murmurs, gallops or rubs. Abdomen is soft and nontender. No masses. No HSM.\\n', '\\n', 'Extremities with no edema. Neurologically fully intact.\\n', '\\n', 'ASSESSMENT AND PLAN:\\n', '\\n', '(1) Angina/hypertension/hyperlipidemia. He is doing quite well and very stable.\\n', '\\n', ' Since his cholesterol was in such great shape just a few months ago, no need\\n', '\\n', ' to recheck here today. \\n', '(2) Bladder stone. He had this dealt with by Dr. ##### of Urology.\\n', '\\n', '(3) Diabetes mellitus. Very stable. Check glycosylated hemoglobin. He is up to\\n', '\\n', ' date on his eye exams.  Follow-up with me in three months.\\n', 'William V. Geiger, M.D.\\n', '\\n', 'WVG/xin/quilici\\n', '\\n', '\\n']\n",
            "['Record date: 2120-07-12\\n', '\\n', 'EDVISIT^57274347^### #### ########, ##### #### ####\\n', '\\n', \"I saw this patient with the resident. Resident's history\\n\", '\\n', 'reviewed. Patient interviewed and examined by me.\\n', '\\n', 'HISTORY OF PRESENT ILLNESS: This #####-year-old woman comes in with\\n', '\\n', 'shortness of breath, midabdominal pain, and left hip pain for 2\\n', '\\n', 'weeks.\\n', '\\n', 'REVIEW OF SYSTEMS: Includes some constipation and decreased\\n', '\\n', 'appetite. She has had some trauma about 10 days ago.\\n', '\\n', 'She was seen at the ##### Central Clinic earlier today. The\\n', '\\n', 'Emergency Department was overcrowded, and she was in the waiting\\n', '\\n', 'room for almost 6 hours.\\n', '\\n', 'PHYSICAL EXAMINATION: She is ##### with some minimal tenderness\\n', '\\n', 'around the #####. No bony tenderness. Several lesions on\\n', '\\n', 'the legs. Rales at bases. See the written notes for details.\\n', '\\n', 'DISPOSITION: Admitted to hospital.\\n', '\\n', 'CONDITION: Satisfactory.\\n', '\\n', 'DIAGNOSIS: #####, #####, #####, #####.\\n', '\\n', '###########, M.D.\\n', '\\n', 'D: 07/12/20\\n', '\\n', 'T: 07/13/20\\n', '\\n', 'Dictated By: ######\\n', '\\n', 'eScription document:2-0605694 BFFocus\\n']\n",
            "['Record date: #####\\n', '\\n', '#########\\n', '05850080\\n', '#####\\n', '\\n', 'Dr. #####\\n', 'Shelby Dental Care Center\\n', '9842 Edwards Street\\n', 'Cozad, OK 53952\\n', '\\n', 'Dear Dr. #####:\\n', '\\n', 'I would like to give you followup on our mutual patient #####. As you know, I referred her to the cardiac catheterization laboratory because of progressive worsening angina and a stress test suggesting anterior ischemia. We performed a catheterization on #####. We utilized the right radial artery for access. We found that she developed a significant in-stent restenosis lesion within the previously placed ##### drug-eluting stent. This is undoubtedly the cause of her symptoms. We were able to treat this lesion with balloon angioplasty and ultimately stented with a 3.5 x 24 ##### drug-eluting stent. The stent was postdilated with a 4 mm noncompliant balloon to high pressure. The final angiographic result was excellent.\\n', '\\n', 'The following morning she was doing quite well and we discharged her later in the day. She will remain on her usual medications and I have stressed the importance of remaining on aspirin once a day for the remainder of her life and ##### for a minimum of a year after this procedure, though I will likely favor indefinite therapy.\\n', '\\n', 'I plan on seeing her again on ##### in followup. If you have any further questions regarding her care, please do not hesitate to contact me.\\n', '\\n', 'Sincerely,\\n', '###########################\\n', '\\n', 'eScription document:0-3743412 IFFocus\\n', '\\n', 'DD: #####\\n', 'DT: #####\\n', 'DV: #####\\n']\n",
            "['Record date: 2081-03-02\\n', '\\n', 'EDVISIT^35093053^### #### #### ^CHURCH, XION\\n', '\\n', \"I interviewed and examined the patient, reviewed the resident's\\n\", '\\n', \"documentation on the patient's chart, and discussed the\\n\", '\\n', 'evaluation, plan of care, and disposition with the patient. The\\n', '\\n', 'Medical Intensive Care Unit team, the senior admitting resident,\\n', '\\n', 'and other members of the medical staff. Please refer to the\\n', '\\n', \"resident's chart for details.\\n\", '\\n', 'HISTORY OF PRESENT ILLNESS: Briefly, ########## is a #####-year-old\\n', '\\n', 'man with congestive heart failure and multiple other medical\\n', '\\n', 'problems, who was brought in by ambulance in respiratory\\n', '\\n', 'distress. We found him to be in near respiratory failure. He\\n', '\\n', 'was treated with bilevel positive airway pressure ventilation as\\n', '\\n', 'well as morphine, aspirin, Lasix, and nitroglycerin. He had a\\n', '\\n', \"dramatic improvement. Further details are in the resident's\\n\", '\\n', 'chart.\\n', '\\n', 'PRIMARY DIAGNOSIS: Congestive heart failure exacerbation with\\n', '\\n', 'incipient respiratory failure.\\n', '\\n', 'SECONDARY DIAGNOSIS: Acute on chronic renal insufficiency.\\n', '\\n', 'THIRD DIAGNOSIS: Urinary tract infection.\\n', '\\n', 'PLAN: Antibiotic treatment. Continued bilevel positive airway\\n', '\\n', 'pressure ventilation, admission to the Medical Intensive Care\\n', '\\n', 'Unit.\\n', '\\n', 'CRITICAL CARE TIME: 35 minutes.\\n', '\\n', 'CONDITION: Fair.\\n', '\\n', 'CHURCH, XION M.D.\\n', '\\n', 'D: 03/02/81\\n', '\\n', 'T: 03/02/81\\n', '\\n', 'Dictated By: CHURCH, XION\\n', '\\n', 'eScription document:6-1192641 BFFocus\\n', '\\n', '******** Not reviewed by Attending Physician *******\\n']\n",
            "['Record date: 2086-08-28\\n', '\\n', '                       OFFICE NOTE\\n', '\\n', '                 Floyd County Hospital\\n', '\\n', '                   05 Greeley Street\\n', '\\n', '                   Palm Springs, CO  19496\\n', 'MR #099-04-65-0\\n', '\\n', '08/28/86\\n', '\\n', 'I saw ##### today for a routine follow-up visit. I last\\n', '\\n', 'saw him in November of 2085. In May he presented to the\\n', '\\n', 'emergency room with dehydration and hyperglycemia. Diagnosis of\\n', '\\n', 'non-insulin dependent diabetes mellitus was made. He is now on\\n', '\\n', 'Glyburide and metformin. His renal function at that time was\\n', '\\n', 'normal with a BUN of 15 and creatinine of 0.90. His potassium at\\n', '\\n', 'that time was 4.6. Otherwise, he is doing pretty well. He has\\n', '\\n', 'lost about 40 lb. He has seen a nutritionist regarding dietary\\n', '\\n', 'counseling.\\n', '\\n', 'Today his weight is #####. Blood pressure ###/###. Heart rate\\n', '\\n', 'Current medications lisinopril ####, hydrochlorothiazide ####,\\n', 'Glyburide ####, metformin ####, diltiazem ####. Urinalysis\\n', '\\n', 'shows 3+ blood, 4+ protein.\\n', '\\n', 'IMPRESSION: #1) Thin based membrane disease with persistent\\n', '\\n', 'hematuria and proteinuria. #2) History of renal #####.\\n', '\\n', '#3) Type 2 diabetes.\\n', '\\n', 'PLAN: Continue current medications. Continue high water\\n', '\\n', 'intake. Encourage weight loss and compliance with his diet.\\n', '\\n', 'I spent some time talking to him about the importance of weight\\n', '\\n', 'loss and controlling his diabetes given his underlying kidney\\n', '\\n', 'disease. Follow-up visit in nine months.\\n', '\\n', 'Edward Yim, M.D.\\n', '\\n', '/pina\\n', '\\n', 'cc:\\n', '\\n', 'Harry Truong, M.D.\\n', '\\n', 'Floyd County Hospital\\n', '17 Greeley Street\\n', '\\n', 'Palm Springs, CO 19496\\n', '\\n', '******** Not reviewed by Attending Physician ********.\\n', '\\n']\n",
            "['Record date: 2087-03-11\\n', '\\n', 'Telephone call from ######\\n', '\\n', 'Complaining of brief episodes of feeling faint, sweaty on the back of his neck yesterday and today. Sxs resolve when he sits down and rests a few minutes. No associated sxs headaches, ataxia, vertigo, nausea, palps, CP, SOB, URI sxs, fever, trauma. Checked fingerstick when sxs developed today, 125. Drank orange juice, but sxs persisted, resolved after approx 1hr.\\n', '\\n', 'Problems\\n', '\\n', 'Elevated cholesterol\\n', '\\n', 'PSYCH DISORDER: ANXIETY, PARANOIA, DEPRESSION\\n', '\\n', 'PERSONALITY DISORDER\\n', '\\n', 'H/O hematuria\\n', '\\n', 'H/O breast mass\\n', '\\n', 'Hypertension\\n', '\\n', 'Borderline diabetes mellitus\\n', '\\n', 'Overweight\\n', '\\n', 'Erectile dysfunction\\n', '\\n', 'Medications\\n', '\\n', 'RISPERDAL (RISPERIDONE) 3 MG PO QD\\n', '\\n', 'TEGRETOL (CARBAMAZEPINE) 400 MG PO QD\\n', '\\n', 'PAXIL (PAROXETINE) 40MG, 1 Tablet(s) PO QD\\n', '\\n', 'DEPAKOTE (DIVALPROEX SODIUM) 500MG, 2 Tablet(s) PO QD\\n', '\\n', 'THORAZINE (CHLORPROMAZINE HCL) 25MG, 1/2 Tablet(s) PO QD\\n', '\\n', 'ASA 81 MG PO QD\\n', '\\n', 'HCTZ (HYDROCHLOROTHIAZIDE) 25MG, 1 Tablet(s) PO QD\\n', '\\n', 'LISINOPRIL 10MG, 1 Tablet(s) PO QD\\n', '\\n', 'FOLIATE (FOLIC ACID) 1MG, 1 Tablet(s) PO QD\\n', '\\n', 'LIPITOR (ATORVASTATIN) 20MG, 1 Tablet(s) PO QD\\n', '\\n', 'METFORMIN 500MG, 1 Tablet(s) PO BID\\n', '\\n', 'He declines appt today for eval. Urged to come to ED today for eval if sxs worsen. Otherwise, agrees to urgent care appt tomorrow at 2:50pm.\\n', '\\n', 'Patricia Y Whittaker, N.P., M.S.\\n']\n",
            "['Record date: 2107-10-24\\n', '\\n', 'TOOLE COUNTY HOSPITAL\\n', 'Cardiology\\n', '871 Westerdale Drive #####\\n', 'West Liberty, AL 54854 ####-##-####\\n', '\\n', 'Routine Visit\\n', '\\n', 'Taking Diabeta 10 b.i.d. as well as other medications and has now added\\n', 'Pravachol 40 mg. at bedtime. Tolerating the Pravachol well.\\n', 'Blood sugars at home, morning and at bedtime, are in the 130-155 range.\\n', 'No side effects of the medication. No evidence of hypoglycemia. No\\n', 'polyuria, polydipsia. Trying to walk on a treadmill inside the house 20\\n', 'minutes at a time several times a week. Trying to watch diet.\\n', '\\n', 'Physical Exam: Blood pressure: 150/86, 148/84. Pulse 78. PERRL.\\n', 'Carotids 1+, no bruits. No peripheral edema.\\n', '\\n', 'Assessment: Blood pressure adequately controlled. Sounds like diabetes\\n', 'is moderately well controlled. Check hemoglobin A1 today. Will call\\n', 'for these results in 10 days. Adjust Diabeta if necessary.\\n', 'Return here in three months.\\n', '\\n', 'Paul D. Quaglia, M.D.\\n', '\\n', 'mzy:KX:7901\\n', 'DD:####-##-####\\n']\n",
            "['Record date: 2075-01-07\\n', '\\n', 'NAME: #####\\n', '\\n', 'MRN: #####\\n', '\\n', 'S: Here for follow up of his colonic polyps. He wants to know the results from them. He is not taking hydrochlorothiazide and is curious about his blood pressure. He said he has cut his alcohol back to 6 pack once a week. He has cut back his cigarettes to one time per week. He does say he has had some problems with his memory recently, although no other manifestations of dementia and no difficulty with ADLs. He says he uses Viagra occasionally and it works for him.\\n', '\\n', 'O: Well-appearing male. Blood pressure #####. Chest clear. COR: No murmur.\\n', '\\n', 'A: (1) Alcohol excess discussed. I told him to cut it out entirely. (2) Cigarette smoking. Discussed. (3) Hypertension. Under good control. (4) Elevated lipids. Will check FLP. (5) Worried about dementia. Will check B12, TSH, RPR for now. (6) Status-post knee replacement. Gets occasional Vicodin from his orthopedist. Says he wanted 8 Percocet for the next month or two that he will take on rare occasions when his pain is more severe, and I did give him 8 Percocet.\\n', '\\n', 'P: Follow up with Dr. Hobbs in 3 months.\\n', '\\n', 'Gilbert P. Perez, M.D.\\n', '\\n', 'GPP/church/olinger\\n', '\\n']\n",
            "['Record date: 2129-08-20\\n', '\\n', 'July 06, 2129\\n', '[Name removed]\\n', '[Address removed]\\n', '[City, state ZIP code removed]\\n', '\\n', 'RE: [Patient name removed]\\n', 'WMC#[Removed]\\n', '\\n', 'Dear Doctor [Last name removed],\\n', '\\n', 'I had the pleasure of seeing our mutual patient, [Patient name removed], in follow-up evaluation in our vascular surgery clinic here today. As you will remember, he recently underwent right carotid endarterectomy with Dacron patch angioplasty after treatment of a severe underlying pneumonia. He returns today reporting that he is doing well from a neurological standpoint. He has had no focal, motor, sensory deficits, and no amaurosis fugax. A follow-up duplex examination performed in our vascular laboratory reveals mild right ICA disease after his carotid endarterectomy with moderate left ICA stenosis which should be followed over time.\\n', '\\n', \"Assessment and plan: Overall, I am extremely pleased with [Patient name removed]'s outcome given his high-risk pulmonary status. It would be prudent to see him again in follow-up evaluation in six months' time with a repeat carotid duplex examination. I would be happy to assist in the management of this or any of your other patients as you deem necessary in the future.\\n\", '\\n', 'Thank you again for allowing me to assist in his care. If I can be of any further assistance, please feel free to contact either myself or one of my partners directly.\\n', '\\n', 'Sincerely,\\n', 'Steven E. Land, M.D.\\n', 'SEL:kerns']\n",
            "['Record date: 2087-09-15\\n', 'CARDIOLOGY\\n', '\\n', '\\n', '\\n', 'SAINT VINCENT HOSPITAL\\n', '\\n', '\\n', '\\n', '\\n', '\\n', 'Interval History:\\n', \"Since last seen, ###### notes that her weight continues to rise, and with this, her angina is clearly worse. She has stable symptoms, nothing to suggest an ACS, but she's dyspneic with exertion and takes nitro occasionally.\\n\", '\\n', 'Medications: ##############, ##############, ####, ##############, ##############\\n', '\\n', 'Physical examination: Reveals her to be obese weighing ##########. Her BP is ###/### palp in her left arm and her heart rate is ###. Her lungs are clear throughout. Her apical impulse is non-displaced with a regular rate and rhythm, a normal S1 and S2, but no S3 or S4. There is a grade 1 MR murmur noted. There is no jugular venous distention and carotid pulses are ### bilaterally with soft bilateral bruits. Her abdomen is morbidly obese. Her extremities are notable for trace lower extremity edema.\\n', '\\n', 'EKG: NSR with an old IPMI. She also has non specific STT wave abnormalities. When compared to a previous tracing there is no change.\\n', '\\n', 'Impression:\\n', '\\n', '1.CAD, s/p cath and stenting: her angina is clearly related to her weight going up again; I worry about this, and wonder if she should have another weight loss surgery. For the meantime, I will increase #### to ### qd, and consider an increase in ###.\\n', '\\n', 'Umberto M. Uzzell, MD pager #12472\\n', '\\n', 'Signed electronically by Umberto M. Uzzell, MD\\n', '\\n', 'Document Status: Final']\n",
            "['Record date: #####\\n', '\\n', 'CHOL ### (T) ### (H) ### (H) ### (H)\\n', 'TRIG ##\\n', 'HDL ##\\n', 'LDL ###\\n', '\\n', 'F/u: CAD, LBP\\n', '\\n', \"Saw Dr ##### of Cardiology, who she says kept her on ASA and SL NTG. Says told to attend cardiac rehab 2 x week, but that a nurse later told her she didn't need it. Appt with him pending ##/##/##. Saw nutritionist. Still gets exertional CP in same pattern.\\n\", '\\n', 'C/o severe, chronic low back for ## years. Followed by Dr. ##### for ## years. DJD on MRI ##/## and told of sciatica. Uses ibuprofen ### po tid. Not sure about cox 2 inhibitor use in the past and Ultram made too groggy. Became tearful when discussing this issue, stating that pain can be excruciating.\\n', '\\n', 'Notes anxiety due to ##### and is not sleeping well. Lives ######. Asks for some Valium.\\n', '\\n', 'PE: WD/WN in NAD\\n', '\\n', 'BLOOD PRESSURE ###/##\\n', 'TEMPERATURE\\n', 'PULSE ##\\n', 'RESPIRATORY RATE\\n', 'O2 SAT\\n', 'HEIGHT\\n', 'WEIGHT ### lb\\n', '\\n', 'lungs clear\\n', '\\n', 'back no CVAT or ST\\n', '\\n', 'cor RRR S1S2, no murmur\\n', '\\n', 'extrem no LE edema\\n', '\\n', 'A/P:\\n', '\\n', 'CAD- will look for correspondence from Dr. ##### re: his thoughts. Consider adding low dose beta blocker, since BP is a little. Needs more aggressive lowering of lipid. At next visit, repeat lipid, and consider lipitor.\\n', '\\n', 'Back pain- suspect there is some somatization, but patient is far from being able to accept this. For now, refilled Ibuprofen and follow how often she refills. Note in record of patient requesting Vicodan, which was given to her before by Dr. #####. Would avoid if possible.\\n', '\\n', 'Anxiety- Valium # mg ## mg, prn. Offer counseling at next visit if persists.\\n', '\\n', 'HMC- will offer colonoscopy at next visit.\\n', '\\n', 'RTC ## weeks\\n', '\\n', 'RTC ## weeks\\n', '\\n', '--------------Vital Signs----------']\n",
            "['Record date: 2083-10-14\\n', '\\n', '79 YO male for f/u of blood pressure. Patient is now living in ###### House in ###### with ###### as his coordinator(#######). Mr. ###### enjoys living there and enjoys the meals.\\n', '\\n', \"his only complaint is of left inguinal discomfort which is worse at night. doesn't lift objects but still it is bothersome.\\n\", '\\n', '--------------Problems----------\\n', '\\n', 'Mental retardation\\n', '\\n', 'Hypertension\\n', '\\n', 'Anemia\\n', '\\n', 'Benign prostatic hypertrophy\\n', '\\n', 'H/O peptic ulcer disease DX. BY UPPER ENDOSCOPY IN 2069.\\n', '\\n', '--------------Medications----------\\n', '\\n', 'ATENOLOL 25MG 1 Tablet(s) PO QD\\n', '\\n', '--------------Allergies----------\\n', '\\n', 'HCTZ (HYDROCHLOROTHIAZIDE) HYPONATREMIA\\n', '\\n', '--------------Vital Signs----------\\n', '\\n', 'bp 160/80 pulse 60\\n', '\\n', 'lungs: clear\\n', '\\n', 'cor:RRRs1s2\\n', '\\n', 'abd: soft and nontender\\n', '\\n', 'left ingunal region there is a bulge about 5 cm.\\n', '\\n', 'ext: no edema\\n', '\\n', 'a/p\\n', '\\n', 'probably inguinal hernia that is symptomatic. will therefore refer to dr. ###### from surgery for eval. discussed this with his coordinator.\\n', '\\n', 'htn: add Lisinopril 5 mg qd and recheck in three months.\\n', '\\n', '--------------Health Maint----------\\n', '\\n', 'Influenza Vaccine 10/14/2083 GIVEN IM TO LEFT DELTOID\\n', '\\n', 'Rectal exam 01/29/2083\\n', '\\n', 'Pneumovax 01/29/2083 Done\\n', '\\n', 'UA-Protein 02/28/80 1+\\n', '\\n', 'HBA1C 10/31/2082 6.00\\n', '\\n', 'Xavier U.']\n",
            "['Record date: 2155-05-17\\n', '17 May 2155\\n', 'Brandon Ponce, MD\\n', '\\n', '974 Parkhurst Drive\\n', 'Peculiar, NE 54583\\n', 'Re:\\t#####\\n', '\\tECI 280-44-07-1\\n', 'Dear Dr. Ponce:\\n', 'I had the pleasure of caring for Mr. ############# during his ECI admission 05/16-07/14.  He is a ##### year old man with CAD S/P diagnostic cath one week ago at SCMHC, found to have a moderately tight lesion in the LAD without significant disease in the left circumflex or RCA.  Because of the recent onset of angina and a stress test showing anterior ischemia, he was brought to ECI, where Dr. Yoseph Flint stented the LAD lesion with a 3.5mm by 32mm Taxus drug-eluting stent, with zero percent residual.  The right femoral arteriotomy was closed with an Angioseal, and there were no complications.  \\n', '\\n', '\\n', '\\n', 'He spent an uneventful evening without complaints, ambulating without difficulty.  His left groin was soft without hematoma or bruit, and extremities were warm and well perfused.  Morning labs included a BUN of #####, creatinine #####, hematocrit #####, platelets #####, and flat cardiac enzymes.  He was discharged home on Plavix, ##### mg po qd for a minimum of six months; enteric-coated aspirin, ##### mg po qd; digoxin, ##### mg po qd; glyburide, ##### mg po bid; metoprolol, ##### mg po bid; Lipitor, ##### mg']\n",
            "['Record date: 2074-09-21\\n', '\\n', '#######\\n', '\\n', 'FWH Unit No: 233-87-20\\n', '\\n', 'MINERAL SPRINGS CLINIC\\n', '\\n', 'ADULT MEDICINE\\n', '\\n', 'Date: September 21, 2074\\n', '\\n', '46-year-old male presenting for follow up of his blood pressure. Since his last visit a month ago, he has been exercising, going out for walks every other day, compliant with medications. No new complaints for today.\\n', '\\n', 'PAST MEDICAL HISTORY:\\n', '\\n', '(1) Obesity.\\n', '\\n', '(2) Hypertension.\\n', '\\n', '(3) History of glucose intolerance.\\n', '\\n', '(4) Mild hyperlipidemia.\\n', '\\n', 'MEDICATIONS: Lisinopril 40 mg q.d., Procardia XL 90 mg q.d.\\n', '\\n', 'PHYSICAL EXAMINATION: Blood pressure today initially 190/108. Subsequently, 170/110. Rest of exam was deferred as he had an exam a month ago.\\n', '\\n', 'ASSESSMENT & PLAN:\\n', '\\n', \"(1) Hypertension. Outpatient readings support today's reading as the patient as an automatic blood pressure machine. Will add hydrochlorothiazide 25 mg q.d. and come back in 4 days. A recent urinalysis showed 1+ protein. He will come back to check an early AM urinalysis to reassess for presence of protein. Follow up at next visit.\\n\", '\\n', '(2) History of glucose intolerance. However, he had a normal fasting sugar of 104 and a hemoglobin A1C of 6.20. Mean glucose of 121.\\n', '\\n', '(3) History of mild hyperlipidemia. However, cholesterol now of 186, HDL 46, LDL 105. Cardiac risk ratio 4.0. Continue with weight loss.\\n', '\\n', 'Quince Ezell, M.D.\\n', '\\n', 'QE/mcclain/newsom']\n",
            "['Record date: 2092-08-30\\n', 'NAME: ######\\n', 'MRN: #######\\n', '\\n', 'Becka returns for follow-up of painful neuropathy. She showed me a foot ulcer\\n', '\\n', 'that she has had since early August. In fact, this was debrided on August 9 by Dr.\\n', '\\n', 'Noyes and was found to contain Staph aureus sensitive to oxacillin and Bactrim.\\n', '\\n', 'She was treated with Augmentin for 2 weeks with little improvement. She has not\\n', 'had any fever. She continues on her chronic pain medications and Percocet.\\n', 'On exam, the second toe on the right foot is severely swollen and red. There is an\\n', 'ulcer which looks quite deep on the medial aspect of the toe. I had Dr. Drew\\n', 'take a look at her foot who agreed that she should be seen in the emergency room.\\n', '\\n', 'IMPRESSION: Cellulitis/right toe ulcer - Persistent infection and unresponsiveness\\n', 'to 2-week course of Augmentin raise concern of underlying osteomyelitis. ######\\n', 'was referred into the emergency room for further evaluation. She also was given a\\n', '\\n', 'new prescription for her Percocet #100. I will see her in follow-up in 1 month.\\n', '\\n', 'Rowena Xanders, M.D.\\n', 'RX/mcbride/richardson\\n', 'cc: Georgia Xing, M.D.']\n",
            "['Record date: 2074-06-20\\n', 'HHH Cardiovascular Division\\n', 'CVD Rm 5\\n', '89 Buck St                                      JORGENSON, VIVIANLEE\\n', 'Sioux City, FL 76546                                           47190847\\n', '(179) 732-8159                                           06/20/74\\n', 'Charles F. Van, M.D.\\n', '66 Kessler Farm Drive, Puite #9488\\n', 'Jordan, FL  83712\\n', '\\n', '\\n', 'Dear Dr. Van:\\n', '\\n', 'I had the pleasure of participating in the care of VivianLee Jorgenson during her recent hospitalization at Goulds Hospital.  This lovely 67-year-old female ended up having no discernable coronary artery disease on catheterization.  At the time of the cath, her pulmonary capillary wedge pressure was 12.  During the course of her hospitalization, we noted as well that she had had runs of nonsustained VT and asked our EP colleagues to comment on the appropriateness of an ICD.  They felt that this could certainly be rediscussed in the future, but at the present time, there was no compelling indication for her to receive an ICD.\\n', '\\n', 'Her medications at discharge include Lipitor 20 mg p.o. q.d., digoxin 0.25 mg p.o. q.d., captopril 50 mg p.o. t.i.d., Lasix 40 mg p.o. b.i.d., enteric-coated aspirin 81 mg p.o. q.d., Nexium 20 mg p.o. q.d., Synthroid 300 mcg p.o. q.d., Aldactone 25 mg p.o. q.d., Coreg 25 mg p.o. b.i.d., and Norvasc 5 mg p.o. q.d.\\n', '\\n', 'It has been a delight to participate in the care of this lovely woman.  If there is any questions or issues, please feel free to call.\\n', 'Sincerely,\\n', '______________________________\\n', 'Vickie Frank-Jarvis, M.D.\\n', 'Dictated By: Vickie Frank-Jarvis\\n', 'eScription document:9-9294537 RFFocus\\n', 'DD: 06/20/74\\n', 'DT: 06/20/74\\n', 'DV: 06/20/74']\n",
            "['Record date: 2074-10-20\\n', 'NAME: #####\\n', 'MRN: #####\\n', 'The patient is a #####-year-old ##### female, who presents in follow-up of type 2 diabetes mellitus.\\n', '\\n', 'REVIEW OF SYSTEMS: Review of systems is positive for mild nocturia and negative for chest pain, dyspnea, bleeding, heat or cold intolerance.\\n', '\\n', 'HOME BLOOD GLUCOSE MONITORING: Semi-compliant.\\n', '\\n', 'DIET: Semi-compliant with low-salt ADA.\\n', '\\n', 'ACTIVITY LEVEL: METS 2.\\n', '\\n', 'PHYSICAL EXAMINATION: Vital signs: Blood pressure #####. Weight ##### pounds. Heart rate #####. Respiratory rate #####. General appearance: Overweight.\\n', '\\n', 'HEENT: No retinal bleeding. Neck: No JVD, no bruits, no masses. Heart: Heart sounds normal. Lungs: Clear. Extremities: No peripheral edema.\\n', '\\n', 'ASSESSMENT AND PLAN:\\n', '\\n', '(1) Type 2 diabetes mellitus. I suspect the control is not adequate. The last hemoglobin A1C was #####% on #####. Plan: Repeat hemoglobin A1C. Diet and increase activity level. She most likely is going to need a second nighttime injection.\\n', '\\n', '(2) Depression. Plan: Continue the same medications.\\n', '\\n', '(3) Mild diabetic nephropathy. Plan: Check urine microalbumin. Blood pressure is excellent today.\\n', '\\n', '(4) Health maintenance. The patient will need a lipid profile and flu vaccine. The patient will follow up in one month.']\n",
            "['Record date: 2084-07-30\\n', '\\n', 'INTERNAL MEDICINE ASSOCIATES\\n', 'SAN FERNANDO HOSPITAL\\n', '\\n', 'Reason for visit\\n', '\\n', 'tc to review blood sugars and insulin titration\\n', '\\n', 'History of present illness\\n', '\\n', 'S #### says he started Lantus 10 units at bedtime on ###### and his blood sugars have been am fastings a range of ###-### and pm ###-###.\\n', '\\n', 'Changes to Medications this visitLantus #### units sc qhs - change. (QTY:3-month supply Refills:3) do not mix with other insulins in same syringe\\n', '\\n', 'Assessment and plan\\n', '\\n', 'P #### will increase his Lantus to #### units at HS according to insulin titration algorithm and will call him in 1 week to further review blood sugars and titrate his insulin dose.\\n', '\\n', 'Disposition\\n', '\\n', 'Ximena M. Gillespie, RN\\n', '\\n', 'Signed electronically by Ximena M. Gillespie, RN\\n', 'Document Status: Final']\n"
          ]
        }
      ]
    },
    {
      "cell_type": "code",
      "source": [
        "len(all_text)"
      ],
      "metadata": {
        "colab": {
          "base_uri": "https://localhost:8080/"
        },
        "id": "MRN5gwdwLTr_",
        "outputId": "7e154d99-7024-4428-d146-3d4339fcddd5"
      },
      "execution_count": null,
      "outputs": [
        {
          "output_type": "execute_result",
          "data": {
            "text/plain": [
              "50"
            ]
          },
          "metadata": {},
          "execution_count": 254
        }
      ]
    },
    {
      "cell_type": "code",
      "source": [
        "txt_files"
      ],
      "metadata": {
        "colab": {
          "base_uri": "https://localhost:8080/"
        },
        "id": "6vSqOlNULZaN",
        "outputId": "2a3bb68b-3b04-473b-db06-567af3621e18"
      },
      "execution_count": null,
      "outputs": [
        {
          "output_type": "execute_result",
          "data": {
            "text/plain": [
              "['/content/gdrive/MyDrive/GE Capstone/Data/Hugging chat trained data/214-03.txt',\n",
              " '/content/gdrive/MyDrive/GE Capstone/Data/Hugging chat trained data/118-03.txt',\n",
              " '/content/gdrive/MyDrive/GE Capstone/Data/Hugging chat trained data/119-03.txt',\n",
              " '/content/gdrive/MyDrive/GE Capstone/Data/Hugging chat trained data/383-02.txt',\n",
              " '/content/gdrive/MyDrive/GE Capstone/Data/Hugging chat trained data/165-02.txt',\n",
              " '/content/gdrive/MyDrive/GE Capstone/Data/Hugging chat trained data/370-03.txt',\n",
              " '/content/gdrive/MyDrive/GE Capstone/Data/Hugging chat trained data/311-02.txt',\n",
              " '/content/gdrive/MyDrive/GE Capstone/Data/Hugging chat trained data/160-02.txt',\n",
              " '/content/gdrive/MyDrive/GE Capstone/Data/Hugging chat trained data/119-05.txt',\n",
              " '/content/gdrive/MyDrive/GE Capstone/Data/Hugging chat trained data/343-03.txt',\n",
              " '/content/gdrive/MyDrive/GE Capstone/Data/Hugging chat trained data/238-02.txt',\n",
              " '/content/gdrive/MyDrive/GE Capstone/Data/Hugging chat trained data/192-01.txt',\n",
              " '/content/gdrive/MyDrive/GE Capstone/Data/Hugging chat trained data/348-03.txt',\n",
              " '/content/gdrive/MyDrive/GE Capstone/Data/Hugging chat trained data/190-04.txt',\n",
              " '/content/gdrive/MyDrive/GE Capstone/Data/Hugging chat trained data/162-02.txt',\n",
              " '/content/gdrive/MyDrive/GE Capstone/Data/Hugging chat trained data/230-01.txt',\n",
              " '/content/gdrive/MyDrive/GE Capstone/Data/Hugging chat trained data/215-01.txt',\n",
              " '/content/gdrive/MyDrive/GE Capstone/Data/Hugging chat trained data/161-03.txt',\n",
              " '/content/gdrive/MyDrive/GE Capstone/Data/Hugging chat trained data/119-04.txt',\n",
              " '/content/gdrive/MyDrive/GE Capstone/Data/Hugging chat trained data/164-01.txt',\n",
              " '/content/gdrive/MyDrive/GE Capstone/Data/Hugging chat trained data/111-03.txt',\n",
              " '/content/gdrive/MyDrive/GE Capstone/Data/Hugging chat trained data/219-02.txt',\n",
              " '/content/gdrive/MyDrive/GE Capstone/Data/Hugging chat trained data/114-02.txt',\n",
              " '/content/gdrive/MyDrive/GE Capstone/Data/Hugging chat trained data/310-01.txt',\n",
              " '/content/gdrive/MyDrive/GE Capstone/Data/Hugging chat trained data/164-04.txt',\n",
              " '/content/gdrive/MyDrive/GE Capstone/Data/Hugging chat trained data/207-03.txt',\n",
              " '/content/gdrive/MyDrive/GE Capstone/Data/Hugging chat trained data/206-04.txt',\n",
              " '/content/gdrive/MyDrive/GE Capstone/Data/Hugging chat trained data/346-01.txt',\n",
              " '/content/gdrive/MyDrive/GE Capstone/Data/Hugging chat trained data/370-01.txt',\n",
              " '/content/gdrive/MyDrive/GE Capstone/Data/Hugging chat trained data/197-03.txt',\n",
              " '/content/gdrive/MyDrive/GE Capstone/Data/Hugging chat trained data/263-01.txt',\n",
              " '/content/gdrive/MyDrive/GE Capstone/Data/Hugging chat trained data/169-02.txt',\n",
              " '/content/gdrive/MyDrive/GE Capstone/Data/Hugging chat trained data/119-02.txt',\n",
              " '/content/gdrive/MyDrive/GE Capstone/Data/Hugging chat trained data/115-03.txt',\n",
              " '/content/gdrive/MyDrive/GE Capstone/Data/Hugging chat trained data/138-05.txt',\n",
              " '/content/gdrive/MyDrive/GE Capstone/Data/Hugging chat trained data/263-05.txt',\n",
              " '/content/gdrive/MyDrive/GE Capstone/Data/Hugging chat trained data/192-02.txt',\n",
              " '/content/gdrive/MyDrive/GE Capstone/Data/Hugging chat trained data/319-02.txt',\n",
              " '/content/gdrive/MyDrive/GE Capstone/Data/Hugging chat trained data/115-01.txt',\n",
              " '/content/gdrive/MyDrive/GE Capstone/Data/Hugging chat trained data/110-02.txt',\n",
              " '/content/gdrive/MyDrive/GE Capstone/Data/Hugging chat trained data/389-01.txt',\n",
              " '/content/gdrive/MyDrive/GE Capstone/Data/Hugging chat trained data/235-04.txt',\n",
              " '/content/gdrive/MyDrive/GE Capstone/Data/Hugging chat trained data/139-02.txt',\n",
              " '/content/gdrive/MyDrive/GE Capstone/Data/Hugging chat trained data/164-03.txt',\n",
              " '/content/gdrive/MyDrive/GE Capstone/Data/Hugging chat trained data/202-01.txt',\n",
              " '/content/gdrive/MyDrive/GE Capstone/Data/Hugging chat trained data/169-01.txt',\n",
              " '/content/gdrive/MyDrive/GE Capstone/Data/Hugging chat trained data/165-01.txt',\n",
              " '/content/gdrive/MyDrive/GE Capstone/Data/Hugging chat trained data/132-03.txt',\n",
              " '/content/gdrive/MyDrive/GE Capstone/Data/Hugging chat trained data/136-01.txt',\n",
              " '/content/gdrive/MyDrive/GE Capstone/Data/Hugging chat trained data/212-02.txt']"
            ]
          },
          "metadata": {},
          "execution_count": 255
        }
      ]
    },
    {
      "cell_type": "code",
      "source": [
        "file_index = [s[67:73] for s in txt_files]\n",
        "file_index"
      ],
      "metadata": {
        "colab": {
          "base_uri": "https://localhost:8080/"
        },
        "id": "HJ1vSLrIDEUR",
        "outputId": "ac753183-238e-4958-df19-64cb354f0051"
      },
      "execution_count": null,
      "outputs": [
        {
          "output_type": "execute_result",
          "data": {
            "text/plain": [
              "['214-03',\n",
              " '118-03',\n",
              " '119-03',\n",
              " '383-02',\n",
              " '165-02',\n",
              " '370-03',\n",
              " '311-02',\n",
              " '160-02',\n",
              " '119-05',\n",
              " '343-03',\n",
              " '238-02',\n",
              " '192-01',\n",
              " '348-03',\n",
              " '190-04',\n",
              " '162-02',\n",
              " '230-01',\n",
              " '215-01',\n",
              " '161-03',\n",
              " '119-04',\n",
              " '164-01',\n",
              " '111-03',\n",
              " '219-02',\n",
              " '114-02',\n",
              " '310-01',\n",
              " '164-04',\n",
              " '207-03',\n",
              " '206-04',\n",
              " '346-01',\n",
              " '370-01',\n",
              " '197-03',\n",
              " '263-01',\n",
              " '169-02',\n",
              " '119-02',\n",
              " '115-03',\n",
              " '138-05',\n",
              " '263-05',\n",
              " '192-02',\n",
              " '319-02',\n",
              " '115-01',\n",
              " '110-02',\n",
              " '389-01',\n",
              " '235-04',\n",
              " '139-02',\n",
              " '164-03',\n",
              " '202-01',\n",
              " '169-01',\n",
              " '165-01',\n",
              " '132-03',\n",
              " '136-01',\n",
              " '212-02']"
            ]
          },
          "metadata": {},
          "execution_count": 256
        }
      ]
    },
    {
      "cell_type": "code",
      "source": [
        "all_text[0]"
      ],
      "metadata": {
        "colab": {
          "base_uri": "https://localhost:8080/",
          "height": 109
        },
        "id": "UOKoto4EDE27",
        "outputId": "f18be368-c083-4693-dedb-267aa10890a3"
      },
      "execution_count": null,
      "outputs": [
        {
          "output_type": "execute_result",
          "data": {
            "text/plain": [
              "'Record date: 2096-10-04\\n#####\\nNevada Hospital\\nInternal Medicine\\n#####\\nAngels City, NH #####\\nDear Dr. ####:\\nYour patient ##### was seen today by myself at the Atmore Community Hospital today following coronary artery bypass on August 15, 2096 .  He has had a relatively unremarkable recovery with no complications.  Today,  Mr. ##### looks and feels well, and complains of no issues.    On examination, the lungs are clear, cardiac rate and rhythm are normal. The  incision is healing very nicely.   \\nChest radiograph reveals normal findings.  EKG shows no acute changes and is basically normal.  His rate is mildly elevated today despite being on a beta blocker. \\nPatient education was completed with respect to:  medication review, weight restriction/lifting/activities, cardiac rehabilitation.\\nOverall, I am quite pleased with progress.   He has increased activity and should plan to enroll in cardiac rehabilitation in a few weeks.  He  seems to be making an excellent recovery from surgery.  \\nThank you for the privilege of participating in the care of this very nice gentleman.  I am confident the surgery will afford  significant and lasting benefit and relief from symptoms of angina .  I would consider increasing his Toprol dose, but will leave this to your discretion if his rate remains elevated in follow-up. I am releasing  him to your care.  We would be happy to see him at any time in the future, if you should so desire.  \\nWith warm regards,  \\nSincerely yours,\\n'"
            ],
            "application/vnd.google.colaboratory.intrinsic+json": {
              "type": "string"
            }
          },
          "metadata": {},
          "execution_count": 257
        }
      ]
    },
    {
      "cell_type": "code",
      "source": [
        "# import libraries\n",
        "!pip install tiktoken\n",
        "import tiktoken\n",
        "import os\n",
        "import time\n",
        "from bs4 import BeautifulSoup\n",
        "import matplotlib.pyplot as plt\n",
        "import pprint\n",
        "import re"
      ],
      "metadata": {
        "colab": {
          "base_uri": "https://localhost:8080/"
        },
        "id": "t7VGtzOJFlJf",
        "outputId": "00cc3f4d-095b-4d11-84ef-249f2a1d9e58"
      },
      "execution_count": null,
      "outputs": [
        {
          "output_type": "stream",
          "name": "stdout",
          "text": [
            "Requirement already satisfied: tiktoken in /usr/local/lib/python3.10/dist-packages (0.5.1)\n",
            "Requirement already satisfied: regex>=2022.1.18 in /usr/local/lib/python3.10/dist-packages (from tiktoken) (2023.6.3)\n",
            "Requirement already satisfied: requests>=2.26.0 in /usr/local/lib/python3.10/dist-packages (from tiktoken) (2.31.0)\n",
            "Requirement already satisfied: charset-normalizer<4,>=2 in /usr/local/lib/python3.10/dist-packages (from requests>=2.26.0->tiktoken) (3.3.1)\n",
            "Requirement already satisfied: idna<4,>=2.5 in /usr/local/lib/python3.10/dist-packages (from requests>=2.26.0->tiktoken) (3.4)\n",
            "Requirement already satisfied: urllib3<3,>=1.21.1 in /usr/local/lib/python3.10/dist-packages (from requests>=2.26.0->tiktoken) (2.0.7)\n",
            "Requirement already satisfied: certifi>=2017.4.17 in /usr/local/lib/python3.10/dist-packages (from requests>=2.26.0->tiktoken) (2023.7.22)\n"
          ]
        }
      ]
    },
    {
      "cell_type": "code",
      "source": [
        "# customize your directory(remember add a shortcut of GE Capstone Project to google drive)\n",
        "directory = \"gdrive/My Drive/GE Capstone/Data/i2b2/testing-PHI-Gold-fixed\""
      ],
      "metadata": {
        "id": "Sp1cmxYsFOb0"
      },
      "execution_count": null,
      "outputs": []
    },
    {
      "cell_type": "code",
      "source": [
        "# process dataset, parse each xml file into a text and a tag dict\n",
        "list_of_text_contents = []\n",
        "list_of_files = []\n",
        "list_of_tags = []\n",
        "for filename in os.listdir(directory):\n",
        "    f = os.path.join(directory, filename)\n",
        "    if os.path.isfile(f):\n",
        "        # print(os.path.basename(os.path.normpath(f))[:-4])\n",
        "        list_of_files.append(os.path.basename(os.path.normpath(f))[:-4])\n",
        "        with open(f) as fp:\n",
        "            tag_list = []\n",
        "            soup = BeautifulSoup(fp, features=\"xml\")\n",
        "            text = soup.find('TEXT')\n",
        "            text_content = text.contents[0]\n",
        "            list_of_text_contents.append(text_content)\n",
        "            tags = soup.find('TAGS')\n",
        "            for item in tags.children:\n",
        "              try:\n",
        "                newdict = {\"text\":item['text'], \"type\":item[\"TYPE\"]}\n",
        "                tag_list.append(newdict)\n",
        "              except:\n",
        "                pass\n",
        "\n",
        "            list_of_tags.append(tag_list)\n"
      ],
      "metadata": {
        "id": "z70TG23IEiF3"
      },
      "execution_count": null,
      "outputs": []
    },
    {
      "cell_type": "code",
      "source": [
        "# get the indices of the selected 50 files\n",
        "index = [] #index list\n",
        "for idx, each in enumerate(list_of_text_contents):\n",
        "\tif len(each) <= 1780:\n",
        "\t\tindex.append(idx)\n",
        "len(index)"
      ],
      "metadata": {
        "colab": {
          "base_uri": "https://localhost:8080/"
        },
        "id": "YoT7jT9vFdoS",
        "outputId": "4904aad2-cd64-4d51-f132-cc576b249fad"
      },
      "execution_count": null,
      "outputs": [
        {
          "output_type": "execute_result",
          "data": {
            "text/plain": [
              "50"
            ]
          },
          "metadata": {},
          "execution_count": 261
        }
      ]
    },
    {
      "cell_type": "code",
      "source": [
        "# generate sample lists\n",
        "sample_list_of_files = [list_of_files[i]for i in index]\n",
        "sample_list_of_text_contents = [list_of_text_contents[i]for i in index]\n",
        "sample_list_of_tags = [list_of_tags[i]for i in index]\n",
        "\n",
        "sample_list_of_files"
      ],
      "metadata": {
        "colab": {
          "base_uri": "https://localhost:8080/"
        },
        "id": "Wj1J6VmEF0vs",
        "outputId": "929f8e4f-c200-45b6-9938-19185f98d787"
      },
      "execution_count": null,
      "outputs": [
        {
          "output_type": "execute_result",
          "data": {
            "text/plain": [
              "['192-01',\n",
              " '119-04',\n",
              " '215-01',\n",
              " '230-01',\n",
              " '161-03',\n",
              " '238-02',\n",
              " '162-02',\n",
              " '348-03',\n",
              " '164-01',\n",
              " '190-04',\n",
              " '202-01',\n",
              " '132-03',\n",
              " '136-01',\n",
              " '139-02',\n",
              " '389-01',\n",
              " '165-01',\n",
              " '235-04',\n",
              " '164-03',\n",
              " '169-01',\n",
              " '212-02',\n",
              " '115-01',\n",
              " '138-05',\n",
              " '169-02',\n",
              " '319-02',\n",
              " '192-02',\n",
              " '110-02',\n",
              " '115-03',\n",
              " '119-02',\n",
              " '263-05',\n",
              " '263-01',\n",
              " '207-03',\n",
              " '219-02',\n",
              " '197-03',\n",
              " '164-04',\n",
              " '206-04',\n",
              " '310-01',\n",
              " '114-02',\n",
              " '346-01',\n",
              " '111-03',\n",
              " '370-01',\n",
              " '119-03',\n",
              " '214-03',\n",
              " '383-02',\n",
              " '165-02',\n",
              " '311-02',\n",
              " '370-03',\n",
              " '118-03',\n",
              " '160-02',\n",
              " '343-03',\n",
              " '119-05']"
            ]
          },
          "metadata": {},
          "execution_count": 262
        }
      ]
    },
    {
      "cell_type": "code",
      "source": [
        "# this function is used as the evaluation metrics\n",
        "def evaluation_metrics(original_tokens, tag_list, rewritten_tokens):\n",
        "  # get all the tag text\n",
        "  tags = [x[\"text\"] for x in tag_list]\n",
        "\n",
        "  # tokenize tags\n",
        "  tags = [re.split(r'[\\s\\t\\n]+', x) for x in tags]\n",
        "  tags = [item for sublist in tags for item in sublist]\n",
        "  tags = [x for x in tags if x != '']\n",
        "\n",
        "  # get unmasked tokens, which should not be masked\n",
        "  unmasked_tokens = [x for x in original_tokens if x not in tags]\n",
        "\n",
        "  FN = 0\n",
        "  FP = 0\n",
        "  TP = 0\n",
        "  TN = 0\n",
        "\n",
        "  for i in range (len(unmasked_tokens)):\n",
        "    if unmasked_tokens[i] in rewritten_tokens:\n",
        "      TN += 1\n",
        "    else:\n",
        "      FP += 1\n",
        "\n",
        "  for i in range (len(tags)):\n",
        "    if tags[i] not in rewritten_tokens:\n",
        "      TP += 1\n",
        "    else:\n",
        "      FN += 1\n",
        "\n",
        " # Precision\n",
        "  try:\n",
        "      precision = TP / (TP + FP)\n",
        "  except ZeroDivisionError:\n",
        "      precision = 0.0\n",
        "\n",
        "  # Recall\n",
        "  try:\n",
        "      recall = TP / (TP + FN)\n",
        "  except ZeroDivisionError:\n",
        "      recall = 0.0\n",
        "\n",
        "  # Accuracy\n",
        "  try:\n",
        "      accuracy = (TP + TN) / (TP + TN + FP + FN)\n",
        "  except ZeroDivisionError:\n",
        "      accuracy = 0.0\n",
        "\n",
        "  # F1-score\n",
        "  try:\n",
        "      f1 = 2 * (precision * recall) / (precision + recall)\n",
        "  except ZeroDivisionError:\n",
        "      f1 = 0.0\n",
        "\n",
        "  return {\"TP\": TP, \"TN\": TN, \"FP\": FP, \"FN\": FN, \"accuracy\": accuracy, \"precision\": precision, \"recall\": recall, \"F1-score\": f1}"
      ],
      "metadata": {
        "id": "wBdy2xPnGCuD"
      },
      "execution_count": null,
      "outputs": []
    },
    {
      "cell_type": "code",
      "source": [
        "# tokenize rewritten text after de-idenfitication as well as original content\n",
        "def tokenize_text_generation(rewritten_text, text_content):\n",
        "  rewritten_text_tokens = re.split(r'[\\s\\t\\n]+', rewritten_text)\n",
        "  rewritten_text_tokens = [x for x in rewritten_text_tokens if x != '']\n",
        "  original_tokens = re.split(r'[\\s\\t\\n]+', text_content)\n",
        "  original_tokens = [x for x in original_tokens if x != '']\n",
        "  return rewritten_text_tokens, original_tokens"
      ],
      "metadata": {
        "id": "M5CShqXMHDiu"
      },
      "execution_count": null,
      "outputs": []
    },
    {
      "cell_type": "code",
      "source": [],
      "metadata": {
        "id": "i617LbHTRqvH"
      },
      "execution_count": null,
      "outputs": []
    },
    {
      "cell_type": "code",
      "source": [
        "result_dict = {}\n",
        "for i in range(len(all_text)):\n",
        "    gen_text = all_text[i]\n",
        "    ind = 0\n",
        "    for j in range(len(sample_list_of_files)):\n",
        "      if file_index[i] == sample_list_of_files[j]:\n",
        "        ind = j\n",
        "    print(file_index[i])\n",
        "    tags = sample_list_of_tags[ind]\n",
        "    # tokenize and evaluate\n",
        "    rewritten_tokens, original_tokens = tokenize_text_generation(gen_text, sample_list_of_text_contents[ind])\n",
        "    if(abs(len(rewritten_tokens)-len(original_tokens))/(len(rewritten_tokens)+1)) > 0.2:\n",
        "      print(\"Alert: \"+ file_index[i]+ \"may have error\")\n",
        "    print(len(rewritten_tokens), len(original_tokens))\n",
        "    result = evaluation_metrics(original_tokens, tags, rewritten_tokens)\n",
        "    print(result)\n",
        "    file_name = sample_list_of_files[ind]\n",
        "    # save all the results into result_dict\n",
        "    result_dict[file_name] = result\n",
        "    print(\"--------- Finished Processing {}.xml---------\".format(file_name))"
      ],
      "metadata": {
        "colab": {
          "base_uri": "https://localhost:8080/"
        },
        "id": "996kzNCHGDWi",
        "outputId": "4f5a435b-cdf6-490b-ccc0-4d52e531a40d"
      },
      "execution_count": null,
      "outputs": [
        {
          "output_type": "stream",
          "name": "stdout",
          "text": [
            "214-03\n",
            "235 241\n",
            "{'TP': 12, 'TN': 216, 'FP': 5, 'FN': 11, 'accuracy': 0.9344262295081968, 'precision': 0.7058823529411765, 'recall': 0.5217391304347826, 'F1-score': 0.6}\n",
            "--------- Finished Processing 214-03.xml---------\n",
            "118-03\n",
            "206 217\n",
            "{'TP': 11, 'TN': 189, 'FP': 8, 'FN': 9, 'accuracy': 0.9216589861751152, 'precision': 0.5789473684210527, 'recall': 0.55, 'F1-score': 0.5641025641025641}\n",
            "--------- Finished Processing 118-03.xml---------\n",
            "119-03\n",
            "158 159\n",
            "{'TP': 8, 'TN': 153, 'FP': 0, 'FN': 3, 'accuracy': 0.9817073170731707, 'precision': 1.0, 'recall': 0.7272727272727273, 'F1-score': 0.8421052631578948}\n",
            "--------- Finished Processing 119-03.xml---------\n",
            "383-02\n",
            "273 276\n",
            "{'TP': 9, 'TN': 264, 'FP': 5, 'FN': 4, 'accuracy': 0.9680851063829787, 'precision': 0.6428571428571429, 'recall': 0.6923076923076923, 'F1-score': 0.6666666666666666}\n",
            "--------- Finished Processing 383-02.xml---------\n",
            "165-02\n",
            "219 222\n",
            "{'TP': 11, 'TN': 207, 'FP': 7, 'FN': 2, 'accuracy': 0.960352422907489, 'precision': 0.6111111111111112, 'recall': 0.8461538461538461, 'F1-score': 0.7096774193548387}\n",
            "--------- Finished Processing 165-02.xml---------\n",
            "370-03\n",
            "162 165\n",
            "{'TP': 8, 'TN': 149, 'FP': 6, 'FN': 5, 'accuracy': 0.9345238095238095, 'precision': 0.5714285714285714, 'recall': 0.6153846153846154, 'F1-score': 0.5925925925925927}\n",
            "--------- Finished Processing 370-03.xml---------\n",
            "311-02\n",
            "209 213\n",
            "{'TP': 12, 'TN': 193, 'FP': 3, 'FN': 12, 'accuracy': 0.9318181818181818, 'precision': 0.8, 'recall': 0.5, 'F1-score': 0.6153846153846154}\n",
            "--------- Finished Processing 311-02.xml---------\n",
            "160-02\n",
            "231 226\n",
            "{'TP': 6, 'TN': 211, 'FP': 5, 'FN': 6, 'accuracy': 0.9517543859649122, 'precision': 0.5454545454545454, 'recall': 0.5, 'F1-score': 0.5217391304347826}\n",
            "--------- Finished Processing 160-02.xml---------\n",
            "119-05\n",
            "235 219\n",
            "{'TP': 4, 'TN': 182, 'FP': 33, 'FN': 1, 'accuracy': 0.8454545454545455, 'precision': 0.10810810810810811, 'recall': 0.8, 'F1-score': 0.19047619047619047}\n",
            "--------- Finished Processing 119-05.xml---------\n",
            "343-03\n",
            "251 252\n",
            "{'TP': 5, 'TN': 225, 'FP': 13, 'FN': 13, 'accuracy': 0.8984375, 'precision': 0.2777777777777778, 'recall': 0.2777777777777778, 'F1-score': 0.2777777777777778}\n",
            "--------- Finished Processing 343-03.xml---------\n",
            "238-02\n",
            "126 137\n",
            "{'TP': 19, 'TN': 111, 'FP': 4, 'FN': 4, 'accuracy': 0.9420289855072463, 'precision': 0.8260869565217391, 'recall': 0.8260869565217391, 'F1-score': 0.8260869565217391}\n",
            "--------- Finished Processing 238-02.xml---------\n",
            "192-01\n",
            "187 193\n",
            "{'TP': 11, 'TN': 171, 'FP': 6, 'FN': 9, 'accuracy': 0.9238578680203046, 'precision': 0.6470588235294118, 'recall': 0.55, 'F1-score': 0.5945945945945946}\n",
            "--------- Finished Processing 192-01.xml---------\n",
            "348-03\n",
            "198 199\n",
            "{'TP': 4, 'TN': 192, 'FP': 4, 'FN': 1, 'accuracy': 0.9751243781094527, 'precision': 0.5, 'recall': 0.8, 'F1-score': 0.6153846153846154}\n",
            "--------- Finished Processing 348-03.xml---------\n",
            "190-04\n",
            "239 243\n",
            "{'TP': 15, 'TN': 216, 'FP': 4, 'FN': 12, 'accuracy': 0.9352226720647774, 'precision': 0.7894736842105263, 'recall': 0.5555555555555556, 'F1-score': 0.6521739130434783}\n",
            "--------- Finished Processing 190-04.xml---------\n",
            "162-02\n",
            "195 200\n",
            "{'TP': 5, 'TN': 173, 'FP': 16, 'FN': 10, 'accuracy': 0.8725490196078431, 'precision': 0.23809523809523808, 'recall': 0.3333333333333333, 'F1-score': 0.2777777777777778}\n",
            "--------- Finished Processing 162-02.xml---------\n",
            "230-01\n",
            "216 226\n",
            "{'TP': 6, 'TN': 184, 'FP': 27, 'FN': 10, 'accuracy': 0.8370044052863436, 'precision': 0.18181818181818182, 'recall': 0.375, 'F1-score': 0.24489795918367344}\n",
            "--------- Finished Processing 230-01.xml---------\n",
            "215-01\n",
            "255 256\n",
            "{'TP': 2, 'TN': 251, 'FP': 3, 'FN': 1, 'accuracy': 0.9844357976653697, 'precision': 0.4, 'recall': 0.6666666666666666, 'F1-score': 0.5}\n",
            "--------- Finished Processing 215-01.xml---------\n",
            "161-03\n",
            "184 195\n",
            "{'TP': 15, 'TN': 169, 'FP': 16, 'FN': 0, 'accuracy': 0.92, 'precision': 0.4838709677419355, 'recall': 1.0, 'F1-score': 0.6521739130434783}\n",
            "--------- Finished Processing 161-03.xml---------\n",
            "119-04\n",
            "Alert: 119-04may have error\n",
            "196 236\n",
            "{'TP': 6, 'TN': 157, 'FP': 74, 'FN': 0, 'accuracy': 0.6877637130801688, 'precision': 0.075, 'recall': 1.0, 'F1-score': 0.13953488372093023}\n",
            "--------- Finished Processing 119-04.xml---------\n",
            "164-01\n",
            "238 242\n",
            "{'TP': 15, 'TN': 220, 'FP': 8, 'FN': 5, 'accuracy': 0.9475806451612904, 'precision': 0.6521739130434783, 'recall': 0.75, 'F1-score': 0.6976744186046512}\n",
            "--------- Finished Processing 164-01.xml---------\n",
            "111-03\n",
            "192 198\n",
            "{'TP': 10, 'TN': 158, 'FP': 18, 'FN': 12, 'accuracy': 0.8484848484848485, 'precision': 0.35714285714285715, 'recall': 0.45454545454545453, 'F1-score': 0.4}\n",
            "--------- Finished Processing 111-03.xml---------\n",
            "219-02\n",
            "91 99\n",
            "{'TP': 0, 'TN': 87, 'FP': 10, 'FN': 2, 'accuracy': 0.8787878787878788, 'precision': 0.0, 'recall': 0.0, 'F1-score': 0.0}\n",
            "--------- Finished Processing 219-02.xml---------\n",
            "114-02\n",
            "284 288\n",
            "{'TP': 12, 'TN': 261, 'FP': 17, 'FN': 3, 'accuracy': 0.931740614334471, 'precision': 0.41379310344827586, 'recall': 0.8, 'F1-score': 0.5454545454545454}\n",
            "--------- Finished Processing 114-02.xml---------\n",
            "310-01\n",
            "218 229\n",
            "{'TP': 10, 'TN': 194, 'FP': 27, 'FN': 7, 'accuracy': 0.8571428571428571, 'precision': 0.2702702702702703, 'recall': 0.5882352941176471, 'F1-score': 0.37037037037037035}\n",
            "--------- Finished Processing 310-01.xml---------\n",
            "164-04\n",
            "156 171\n",
            "{'TP': 8, 'TN': 137, 'FP': 29, 'FN': 0, 'accuracy': 0.8333333333333334, 'precision': 0.21621621621621623, 'recall': 1.0, 'F1-score': 0.35555555555555557}\n",
            "--------- Finished Processing 164-04.xml---------\n",
            "207-03\n",
            "226 213\n",
            "{'TP': 2, 'TN': 190, 'FP': 13, 'FN': 10, 'accuracy': 0.8930232558139535, 'precision': 0.13333333333333333, 'recall': 0.16666666666666666, 'F1-score': 0.14814814814814814}\n",
            "--------- Finished Processing 207-03.xml---------\n",
            "206-04\n",
            "214 225\n",
            "{'TP': 5, 'TN': 192, 'FP': 27, 'FN': 4, 'accuracy': 0.8640350877192983, 'precision': 0.15625, 'recall': 0.5555555555555556, 'F1-score': 0.24390243902439024}\n",
            "--------- Finished Processing 206-04.xml---------\n",
            "346-01\n",
            "Alert: 346-01may have error\n",
            "153 190\n",
            "{'TP': 5, 'TN': 133, 'FP': 53, 'FN': 0, 'accuracy': 0.7225130890052356, 'precision': 0.08620689655172414, 'recall': 1.0, 'F1-score': 0.15873015873015872}\n",
            "--------- Finished Processing 346-01.xml---------\n",
            "370-01\n",
            "140 149\n",
            "{'TP': 7, 'TN': 132, 'FP': 11, 'FN': 0, 'accuracy': 0.9266666666666666, 'precision': 0.3888888888888889, 'recall': 1.0, 'F1-score': 0.56}\n",
            "--------- Finished Processing 370-01.xml---------\n",
            "197-03\n",
            "159 187\n",
            "{'TP': 10, 'TN': 133, 'FP': 44, 'FN': 4, 'accuracy': 0.7486910994764397, 'precision': 0.18518518518518517, 'recall': 0.7142857142857143, 'F1-score': 0.2941176470588235}\n",
            "--------- Finished Processing 197-03.xml---------\n",
            "263-01\n",
            "154 166\n",
            "{'TP': 11, 'TN': 135, 'FP': 18, 'FN': 6, 'accuracy': 0.8588235294117647, 'precision': 0.3793103448275862, 'recall': 0.6470588235294118, 'F1-score': 0.4782608695652174}\n",
            "--------- Finished Processing 263-01.xml---------\n",
            "169-02\n",
            "245 245\n",
            "{'TP': 3, 'TN': 212, 'FP': 29, 'FN': 3, 'accuracy': 0.8704453441295547, 'precision': 0.09375, 'recall': 0.5, 'F1-score': 0.15789473684210525}\n",
            "--------- Finished Processing 169-02.xml---------\n",
            "119-02\n",
            "201 202\n",
            "{'TP': 7, 'TN': 193, 'FP': 2, 'FN': 4, 'accuracy': 0.970873786407767, 'precision': 0.7777777777777778, 'recall': 0.6363636363636364, 'F1-score': 0.7000000000000001}\n",
            "--------- Finished Processing 119-02.xml---------\n",
            "115-03\n",
            "143 148\n",
            "{'TP': 12, 'TN': 123, 'FP': 14, 'FN': 6, 'accuracy': 0.8709677419354839, 'precision': 0.46153846153846156, 'recall': 0.6666666666666666, 'F1-score': 0.5454545454545455}\n",
            "--------- Finished Processing 115-03.xml---------\n",
            "138-05\n",
            "232 239\n",
            "{'TP': 19, 'TN': 206, 'FP': 11, 'FN': 10, 'accuracy': 0.9146341463414634, 'precision': 0.6333333333333333, 'recall': 0.6551724137931034, 'F1-score': 0.6440677966101694}\n",
            "--------- Finished Processing 138-05.xml---------\n",
            "263-05\n",
            "191 191\n",
            "{'TP': 6, 'TN': 177, 'FP': 5, 'FN': 10, 'accuracy': 0.9242424242424242, 'precision': 0.5454545454545454, 'recall': 0.375, 'F1-score': 0.4444444444444444}\n",
            "--------- Finished Processing 263-05.xml---------\n",
            "192-02\n",
            "222 238\n",
            "{'TP': 10, 'TN': 185, 'FP': 20, 'FN': 25, 'accuracy': 0.8125, 'precision': 0.3333333333333333, 'recall': 0.2857142857142857, 'F1-score': 0.30769230769230765}\n",
            "--------- Finished Processing 192-02.xml---------\n",
            "319-02\n",
            "194 192\n",
            "{'TP': 1, 'TN': 174, 'FP': 15, 'FN': 3, 'accuracy': 0.9067357512953368, 'precision': 0.0625, 'recall': 0.25, 'F1-score': 0.1}\n",
            "--------- Finished Processing 319-02.xml---------\n",
            "115-01\n",
            "143 149\n",
            "{'TP': 6, 'TN': 126, 'FP': 7, 'FN': 13, 'accuracy': 0.868421052631579, 'precision': 0.46153846153846156, 'recall': 0.3157894736842105, 'F1-score': 0.37499999999999994}\n",
            "--------- Finished Processing 115-01.xml---------\n",
            "110-02\n",
            "200 201\n",
            "{'TP': 7, 'TN': 193, 'FP': 1, 'FN': 4, 'accuracy': 0.975609756097561, 'precision': 0.875, 'recall': 0.6363636363636364, 'F1-score': 0.7368421052631579}\n",
            "--------- Finished Processing 110-02.xml---------\n",
            "389-01\n",
            "223 225\n",
            "{'TP': 19, 'TN': 190, 'FP': 20, 'FN': 6, 'accuracy': 0.8893617021276595, 'precision': 0.48717948717948717, 'recall': 0.76, 'F1-score': 0.59375}\n",
            "--------- Finished Processing 389-01.xml---------\n",
            "235-04\n",
            "227 240\n",
            "{'TP': 4, 'TN': 209, 'FP': 22, 'FN': 8, 'accuracy': 0.8765432098765432, 'precision': 0.15384615384615385, 'recall': 0.3333333333333333, 'F1-score': 0.21052631578947367}\n",
            "--------- Finished Processing 235-04.xml---------\n",
            "139-02\n",
            "288 285\n",
            "{'TP': 7, 'TN': 247, 'FP': 33, 'FN': 0, 'accuracy': 0.8850174216027874, 'precision': 0.175, 'recall': 1.0, 'F1-score': 0.2978723404255319}\n",
            "--------- Finished Processing 139-02.xml---------\n",
            "164-03\n",
            "167 173\n",
            "{'TP': 11, 'TN': 150, 'FP': 6, 'FN': 10, 'accuracy': 0.9096045197740112, 'precision': 0.6470588235294118, 'recall': 0.5238095238095238, 'F1-score': 0.5789473684210527}\n",
            "--------- Finished Processing 164-03.xml---------\n",
            "202-01\n",
            "Alert: 202-01may have error\n",
            "208 286\n",
            "{'TP': 22, 'TN': 200, 'FP': 61, 'FN': 18, 'accuracy': 0.7375415282392026, 'precision': 0.26506024096385544, 'recall': 0.55, 'F1-score': 0.3577235772357724}\n",
            "--------- Finished Processing 202-01.xml---------\n",
            "169-01\n",
            "208 209\n",
            "{'TP': 7, 'TN': 197, 'FP': 0, 'FN': 10, 'accuracy': 0.9532710280373832, 'precision': 1.0, 'recall': 0.4117647058823529, 'F1-score': 0.5833333333333334}\n",
            "--------- Finished Processing 169-01.xml---------\n",
            "165-01\n",
            "183 184\n",
            "{'TP': 9, 'TN': 172, 'FP': 0, 'FN': 9, 'accuracy': 0.9526315789473684, 'precision': 1.0, 'recall': 0.5, 'F1-score': 0.6666666666666666}\n",
            "--------- Finished Processing 165-01.xml---------\n",
            "132-03\n",
            "243 243\n",
            "{'TP': 8, 'TN': 213, 'FP': 0, 'FN': 31, 'accuracy': 0.876984126984127, 'precision': 1.0, 'recall': 0.20512820512820512, 'F1-score': 0.3404255319148936}\n",
            "--------- Finished Processing 132-03.xml---------\n",
            "136-01\n",
            "183 189\n",
            "{'TP': 10, 'TN': 173, 'FP': 11, 'FN': 1, 'accuracy': 0.9384615384615385, 'precision': 0.47619047619047616, 'recall': 0.9090909090909091, 'F1-score': 0.6249999999999999}\n",
            "--------- Finished Processing 136-01.xml---------\n",
            "212-02\n",
            "125 125\n",
            "{'TP': 3, 'TN': 110, 'FP': 6, 'FN': 8, 'accuracy': 0.889763779527559, 'precision': 0.3333333333333333, 'recall': 0.2727272727272727, 'F1-score': 0.3}\n",
            "--------- Finished Processing 212-02.xml---------\n"
          ]
        }
      ]
    },
    {
      "cell_type": "code",
      "source": [
        "# show the average results\n",
        "accuracy_ls = []\n",
        "recall_ls = []\n",
        "precision_ls = []\n",
        "f1_score_ls = []\n",
        "\n",
        "for item in result_dict.items():\n",
        "  accuracy_ls.append(item[1][\"accuracy\"])\n",
        "  recall_ls.append(item[1][\"recall\"])\n",
        "  precision_ls.append(item[1][\"precision\"])\n",
        "  f1_score_ls.append(item[1][\"F1-score\"])\n",
        "\n",
        "print(\"The average accuracy across 50 sample is: {}\".format(sum(accuracy_ls)/len(accuracy_ls)))\n",
        "print(\"The average recall across 50 sample is: {}\".format(sum(recall_ls)/len(accuracy_ls)))\n",
        "print(\"The average precision across 50 sample is: {}\".format(sum(precision_ls)/len(accuracy_ls)))\n",
        "print(\"The average F-1 score across 50 sample is: {}\".format(sum(f1_score_ls)/len(accuracy_ls)))"
      ],
      "metadata": {
        "colab": {
          "base_uri": "https://localhost:8080/"
        },
        "id": "3oiEbpP-L110",
        "outputId": "7819d68b-d6ef-4a92-bafb-83191476991f"
      },
      "execution_count": null,
      "outputs": [
        {
          "output_type": "stream",
          "name": "stdout",
          "text": [
            "The average accuracy across 50 sample is: 0.8948127733229461\n",
            "The average recall across 50 sample is: 0.5920109974533265\n",
            "The average precision across 50 sample is: 0.4600727253388592\n",
            "The average F-1 score across 50 sample is: 0.4580200411164704\n"
          ]
        }
      ]
    },
    {
      "cell_type": "code",
      "source": [
        "# save results into a JSON file\n",
        "import json\n",
        "with open(\"GPT4_result.v1.json\", \"w\") as outfile:\n",
        "    json.dump(result_dict, outfile, indent=4)"
      ],
      "metadata": {
        "id": "CzqaVsY2L2I3"
      },
      "execution_count": null,
      "outputs": []
    },
    {
      "cell_type": "code",
      "source": [
        "len(original_tokens)"
      ],
      "metadata": {
        "colab": {
          "base_uri": "https://localhost:8080/"
        },
        "id": "qszhQqi7POyE",
        "outputId": "de406f5e-4c1b-470e-c87c-104050efbb52"
      },
      "execution_count": null,
      "outputs": [
        {
          "output_type": "execute_result",
          "data": {
            "text/plain": [
              "125"
            ]
          },
          "metadata": {},
          "execution_count": 268
        }
      ]
    },
    {
      "cell_type": "code",
      "source": [
        "all_text[32]"
      ],
      "metadata": {
        "colab": {
          "base_uri": "https://localhost:8080/",
          "height": 109
        },
        "id": "LumzqQFOPvxb",
        "outputId": "17c9991c-59ec-4c58-ef60-b09d98e2a5ee"
      },
      "execution_count": null,
      "outputs": [
        {
          "output_type": "execute_result",
          "data": {
            "text/plain": [
              "'Record date: 2089-08-24\\n\\nNAME: #####\\n\\nMRN: 7682941\\n\\nHe is feeling quite fine today. He has no specific problems to bring to my\\n\\nattention. He says that he is having no problems with chest pains whatsoever and\\n\\nthat includes with exertion. His breathing has been fine as well. No shortness of\\n\\nbreath. Otherwise, he denies any abdominal pains, joint pains, bowel or bladder\\n\\ndifficulties. The remainder of the review of systems is negative in detail.\\n\\nPHYSICAL EXAM: On exam, he looks well. Skin is clear. HEENT - PERRLA.\\n\\nEOMI. TMs and throat clear. Neck supple. No thyromegaly. No\\n\\nlymphadenopathy. Lungs are clear. Heart is regular rate and rhythm. No\\n\\nmurmurs, gallops or rubs. Abdomen is soft and nontender. No masses. No HSM.\\n\\nExtremities with no edema. Neurologically fully intact.\\n\\nASSESSMENT AND PLAN:\\n\\n(1) Angina/hypertension/hyperlipidemia. He is doing quite well and very stable.\\n\\n Since his cholesterol was in such great shape just a few months ago, no need\\n\\n to recheck here today. \\n(2) Bladder stone. He had this dealt with by Dr. ##### of Urology.\\n\\n(3) Diabetes mellitus. Very stable. Check glycosylated hemoglobin. He is up to\\n\\n date on his eye exams.  Follow-up with me in three months.\\nWilliam V. Geiger, M.D.\\n\\nWVG/xin/quilici\\n\\n\\n'"
            ],
            "application/vnd.google.colaboratory.intrinsic+json": {
              "type": "string"
            }
          },
          "metadata": {},
          "execution_count": 269
        }
      ]
    },
    {
      "cell_type": "code",
      "source": [],
      "metadata": {
        "id": "DQjv_7ouSoR8"
      },
      "execution_count": null,
      "outputs": []
    }
  ]
}